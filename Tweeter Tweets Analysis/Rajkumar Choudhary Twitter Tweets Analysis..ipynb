{
 "cells": [
  {
   "cell_type": "markdown",
   "id": "a9583ee9",
   "metadata": {},
   "source": [
    "# <font color = darkblue> \"Rajkumar Choudhary School of data Science and Forecasting.\"</font>"
   ]
  },
  {
   "cell_type": "markdown",
   "id": "983dbe87",
   "metadata": {},
   "source": [
    "## <font color = darkred> Twitter tweets analysis.</font>\n"
   ]
  },
  {
   "cell_type": "markdown",
   "id": "2d9ffe5c",
   "metadata": {},
   "source": [
    "## Stage 1 :-  Find recent tweets using the keyword and store the raw data in log files.\n",
    "### Write a program that takes keyword as input and finds recent tweets (100,000 tweets) containing that keyword using twitter’s official API and store the raw data (tweet JSON object) in log files ensuring that the log file should not exceed 10000 records or 5 Mb in size (whichever constraint is met first). You will have multiple log files for the raw data, choose naming convention for these files wisely as they will be reused in Stage 2. You can also use third party library as well (example - Tweepy for python)."
   ]
  },
  {
   "cell_type": "markdown",
   "id": "d05d0b52",
   "metadata": {},
   "source": [
    "# Importing Tweepy and other Libraries."
   ]
  },
  {
   "cell_type": "code",
   "execution_count": 1,
   "id": "075a6064",
   "metadata": {},
   "outputs": [],
   "source": [
    "import tweepy\n",
    "from tweepy import OAuthHandler\n",
    "import csv\n",
    "import pandas as pd\n",
    "import json\n",
    "from datetime import datetime\n",
    "start_time=datetime.now()"
   ]
  },
  {
   "cell_type": "markdown",
   "id": "82a7dab0",
   "metadata": {},
   "source": [
    "## Initializing All the four important API keys for Tweet Analysis."
   ]
  },
  {
   "cell_type": "code",
   "execution_count": 2,
   "id": "815ab7b3",
   "metadata": {},
   "outputs": [],
   "source": [
    "# all 4 authentication keys to access twitter API\n",
    "# to connect as OAth handler or jump serever / revers proxy server\n",
    "consumer_key = \"Z91q6yFBkJPUNJp629iYTofN1\"\n",
    "consumer_sec = \"wWyAQft8jX9K1DyACL4Iy76ZEOVBLXKZOjGFfdNe4INCUvK4wX\"\n",
    "\n",
    "#consumer_sec = \"4rGSGZEVbkxbv3mJgGhYKTfYFLM2quZSodWypy1zYf8JoN6FSU\"\n",
    "# from proxy server we need to connect\n",
    "access_token = \"1522505735115997184-P5EtO25YpRbCndgwxy1E6HlI6FA1v0\"\n",
    "access_token_sec = \"ukHvdJYSCrLvN9YprXbNNpk8RDB8BWJs0CJKhHfeuaAIW\""
   ]
  },
  {
   "cell_type": "markdown",
   "id": "6e0e0c61",
   "metadata": {},
   "source": [
    "### Define a function to Access the cunsumer key and Consumer Security key."
   ]
  },
  {
   "cell_type": "code",
   "execution_count": 3,
   "id": "e592310f",
   "metadata": {},
   "outputs": [],
   "source": [
    "auth = tweepy.OAuthHandler(consumer_key,consumer_sec)"
   ]
  },
  {
   "cell_type": "markdown",
   "id": "1ad92c36",
   "metadata": {},
   "source": [
    "### By auth.set function Accessing the Access Token and Access Security Token."
   ]
  },
  {
   "cell_type": "code",
   "execution_count": 4,
   "id": "e1a6d4f7",
   "metadata": {},
   "outputs": [],
   "source": [
    "auth.set_access_token(access_token,access_token_sec)"
   ]
  },
  {
   "cell_type": "markdown",
   "id": "45583985",
   "metadata": {},
   "source": [
    "### Define API to connect to Strong API server of twitter."
   ]
  },
  {
   "cell_type": "code",
   "execution_count": 5,
   "id": "bfa9bfe9",
   "metadata": {},
   "outputs": [],
   "source": [
    "api = tweepy.API(auth)"
   ]
  },
  {
   "cell_type": "code",
   "execution_count": 6,
   "id": "5a6094f1",
   "metadata": {},
   "outputs": [
    {
     "name": "stdout",
     "output_type": "stream",
     "text": [
      "Please enter keyword or hashtag to search: Data Science\n",
      "Please enter how many tweets to analyze: 100\n"
     ]
    }
   ],
   "source": [
    "search_key = input('Please enter keyword or hashtag to search: ')     \n",
    "no_of_tweet = input('Please enter how many tweets to analyze: ')   "
   ]
  },
  {
   "cell_type": "code",
   "execution_count": 7,
   "id": "0fd6d7fb",
   "metadata": {},
   "outputs": [],
   "source": [
    "data = api.search_tweets(search_key,lang='en',count=no_of_tweet)"
   ]
  },
  {
   "cell_type": "code",
   "execution_count": 8,
   "id": "7d5cecdf",
   "metadata": {},
   "outputs": [
    {
     "data": {
      "text/plain": [
       "Status(_api=<tweepy.api.API object at 0x000001703F431310>, _json={'created_at': 'Fri May 06 12:18:42 +0000 2022', 'id': 1522551428040036352, 'id_str': '1522551428040036352', 'text': '@Adam_Baumel @PeterGiunta If you actually read the article and not just where it’s from, you’ll see there are links… https://t.co/Jc8ayrNkhy', 'truncated': True, 'entities': {'hashtags': [], 'symbols': [], 'user_mentions': [{'screen_name': 'Adam_Baumel', 'name': 'Adam Baumel ⚓🗽', 'id': 2171052229, 'id_str': '2171052229', 'indices': [0, 12]}, {'screen_name': 'PeterGiunta', 'name': 'Peter Giunta', 'id': 2172710372, 'id_str': '2172710372', 'indices': [13, 25]}], 'urls': [{'url': 'https://t.co/Jc8ayrNkhy', 'expanded_url': 'https://twitter.com/i/web/status/1522551428040036352', 'display_url': 'twitter.com/i/web/status/1…', 'indices': [117, 140]}]}, 'metadata': {'iso_language_code': 'en', 'result_type': 'recent'}, 'source': '<a href=\"http://twitter.com/download/iphone\" rel=\"nofollow\">Twitter for iPhone</a>', 'in_reply_to_status_id': 1522407009626501120, 'in_reply_to_status_id_str': '1522407009626501120', 'in_reply_to_user_id': 2171052229, 'in_reply_to_user_id_str': '2171052229', 'in_reply_to_screen_name': 'Adam_Baumel', 'user': {'id': 555316720, 'id_str': '555316720', 'name': 'Joe Maligno', 'screen_name': 'JoeMaligno', 'location': 'Staten Island, NY', 'description': 'Attorney | Broker | Actor | General Counsel to @StatenIslandYRs | General Counsel to @NYSYR | America First 🇺🇸', 'url': None, 'entities': {'description': {'urls': []}}, 'protected': False, 'followers_count': 546, 'friends_count': 821, 'listed_count': 3, 'created_at': 'Mon Apr 16 18:13:49 +0000 2012', 'favourites_count': 1453, 'utc_offset': None, 'time_zone': None, 'geo_enabled': True, 'verified': False, 'statuses_count': 846, 'lang': None, 'contributors_enabled': False, 'is_translator': False, 'is_translation_enabled': False, 'profile_background_color': 'C0DEED', 'profile_background_image_url': 'http://abs.twimg.com/images/themes/theme1/bg.png', 'profile_background_image_url_https': 'https://abs.twimg.com/images/themes/theme1/bg.png', 'profile_background_tile': False, 'profile_image_url': 'http://pbs.twimg.com/profile_images/1467895124063625221/O5x3G4pa_normal.jpg', 'profile_image_url_https': 'https://pbs.twimg.com/profile_images/1467895124063625221/O5x3G4pa_normal.jpg', 'profile_banner_url': 'https://pbs.twimg.com/profile_banners/555316720/1588648302', 'profile_link_color': '1DA1F2', 'profile_sidebar_border_color': 'C0DEED', 'profile_sidebar_fill_color': 'DDEEF6', 'profile_text_color': '333333', 'profile_use_background_image': True, 'has_extended_profile': True, 'default_profile': True, 'default_profile_image': False, 'following': False, 'follow_request_sent': False, 'notifications': False, 'translator_type': 'none', 'withheld_in_countries': []}, 'geo': None, 'coordinates': None, 'place': None, 'contributors': None, 'is_quote_status': False, 'retweet_count': 0, 'favorite_count': 0, 'favorited': False, 'retweeted': False, 'lang': 'en'}, created_at=datetime.datetime(2022, 5, 6, 12, 18, 42, tzinfo=datetime.timezone.utc), id=1522551428040036352, id_str='1522551428040036352', text='@Adam_Baumel @PeterGiunta If you actually read the article and not just where it’s from, you’ll see there are links… https://t.co/Jc8ayrNkhy', truncated=True, entities={'hashtags': [], 'symbols': [], 'user_mentions': [{'screen_name': 'Adam_Baumel', 'name': 'Adam Baumel ⚓🗽', 'id': 2171052229, 'id_str': '2171052229', 'indices': [0, 12]}, {'screen_name': 'PeterGiunta', 'name': 'Peter Giunta', 'id': 2172710372, 'id_str': '2172710372', 'indices': [13, 25]}], 'urls': [{'url': 'https://t.co/Jc8ayrNkhy', 'expanded_url': 'https://twitter.com/i/web/status/1522551428040036352', 'display_url': 'twitter.com/i/web/status/1…', 'indices': [117, 140]}]}, metadata={'iso_language_code': 'en', 'result_type': 'recent'}, source='Twitter for iPhone', source_url='http://twitter.com/download/iphone', in_reply_to_status_id=1522407009626501120, in_reply_to_status_id_str='1522407009626501120', in_reply_to_user_id=2171052229, in_reply_to_user_id_str='2171052229', in_reply_to_screen_name='Adam_Baumel', author=User(_api=<tweepy.api.API object at 0x000001703F431310>, _json={'id': 555316720, 'id_str': '555316720', 'name': 'Joe Maligno', 'screen_name': 'JoeMaligno', 'location': 'Staten Island, NY', 'description': 'Attorney | Broker | Actor | General Counsel to @StatenIslandYRs | General Counsel to @NYSYR | America First 🇺🇸', 'url': None, 'entities': {'description': {'urls': []}}, 'protected': False, 'followers_count': 546, 'friends_count': 821, 'listed_count': 3, 'created_at': 'Mon Apr 16 18:13:49 +0000 2012', 'favourites_count': 1453, 'utc_offset': None, 'time_zone': None, 'geo_enabled': True, 'verified': False, 'statuses_count': 846, 'lang': None, 'contributors_enabled': False, 'is_translator': False, 'is_translation_enabled': False, 'profile_background_color': 'C0DEED', 'profile_background_image_url': 'http://abs.twimg.com/images/themes/theme1/bg.png', 'profile_background_image_url_https': 'https://abs.twimg.com/images/themes/theme1/bg.png', 'profile_background_tile': False, 'profile_image_url': 'http://pbs.twimg.com/profile_images/1467895124063625221/O5x3G4pa_normal.jpg', 'profile_image_url_https': 'https://pbs.twimg.com/profile_images/1467895124063625221/O5x3G4pa_normal.jpg', 'profile_banner_url': 'https://pbs.twimg.com/profile_banners/555316720/1588648302', 'profile_link_color': '1DA1F2', 'profile_sidebar_border_color': 'C0DEED', 'profile_sidebar_fill_color': 'DDEEF6', 'profile_text_color': '333333', 'profile_use_background_image': True, 'has_extended_profile': True, 'default_profile': True, 'default_profile_image': False, 'following': False, 'follow_request_sent': False, 'notifications': False, 'translator_type': 'none', 'withheld_in_countries': []}, id=555316720, id_str='555316720', name='Joe Maligno', screen_name='JoeMaligno', location='Staten Island, NY', description='Attorney | Broker | Actor | General Counsel to @StatenIslandYRs | General Counsel to @NYSYR | America First 🇺🇸', url=None, entities={'description': {'urls': []}}, protected=False, followers_count=546, friends_count=821, listed_count=3, created_at=datetime.datetime(2012, 4, 16, 18, 13, 49, tzinfo=datetime.timezone.utc), favourites_count=1453, utc_offset=None, time_zone=None, geo_enabled=True, verified=False, statuses_count=846, lang=None, contributors_enabled=False, is_translator=False, is_translation_enabled=False, profile_background_color='C0DEED', profile_background_image_url='http://abs.twimg.com/images/themes/theme1/bg.png', profile_background_image_url_https='https://abs.twimg.com/images/themes/theme1/bg.png', profile_background_tile=False, profile_image_url='http://pbs.twimg.com/profile_images/1467895124063625221/O5x3G4pa_normal.jpg', profile_image_url_https='https://pbs.twimg.com/profile_images/1467895124063625221/O5x3G4pa_normal.jpg', profile_banner_url='https://pbs.twimg.com/profile_banners/555316720/1588648302', profile_link_color='1DA1F2', profile_sidebar_border_color='C0DEED', profile_sidebar_fill_color='DDEEF6', profile_text_color='333333', profile_use_background_image=True, has_extended_profile=True, default_profile=True, default_profile_image=False, following=False, follow_request_sent=False, notifications=False, translator_type='none', withheld_in_countries=[]), user=User(_api=<tweepy.api.API object at 0x000001703F431310>, _json={'id': 555316720, 'id_str': '555316720', 'name': 'Joe Maligno', 'screen_name': 'JoeMaligno', 'location': 'Staten Island, NY', 'description': 'Attorney | Broker | Actor | General Counsel to @StatenIslandYRs | General Counsel to @NYSYR | America First 🇺🇸', 'url': None, 'entities': {'description': {'urls': []}}, 'protected': False, 'followers_count': 546, 'friends_count': 821, 'listed_count': 3, 'created_at': 'Mon Apr 16 18:13:49 +0000 2012', 'favourites_count': 1453, 'utc_offset': None, 'time_zone': None, 'geo_enabled': True, 'verified': False, 'statuses_count': 846, 'lang': None, 'contributors_enabled': False, 'is_translator': False, 'is_translation_enabled': False, 'profile_background_color': 'C0DEED', 'profile_background_image_url': 'http://abs.twimg.com/images/themes/theme1/bg.png', 'profile_background_image_url_https': 'https://abs.twimg.com/images/themes/theme1/bg.png', 'profile_background_tile': False, 'profile_image_url': 'http://pbs.twimg.com/profile_images/1467895124063625221/O5x3G4pa_normal.jpg', 'profile_image_url_https': 'https://pbs.twimg.com/profile_images/1467895124063625221/O5x3G4pa_normal.jpg', 'profile_banner_url': 'https://pbs.twimg.com/profile_banners/555316720/1588648302', 'profile_link_color': '1DA1F2', 'profile_sidebar_border_color': 'C0DEED', 'profile_sidebar_fill_color': 'DDEEF6', 'profile_text_color': '333333', 'profile_use_background_image': True, 'has_extended_profile': True, 'default_profile': True, 'default_profile_image': False, 'following': False, 'follow_request_sent': False, 'notifications': False, 'translator_type': 'none', 'withheld_in_countries': []}, id=555316720, id_str='555316720', name='Joe Maligno', screen_name='JoeMaligno', location='Staten Island, NY', description='Attorney | Broker | Actor | General Counsel to @StatenIslandYRs | General Counsel to @NYSYR | America First 🇺🇸', url=None, entities={'description': {'urls': []}}, protected=False, followers_count=546, friends_count=821, listed_count=3, created_at=datetime.datetime(2012, 4, 16, 18, 13, 49, tzinfo=datetime.timezone.utc), favourites_count=1453, utc_offset=None, time_zone=None, geo_enabled=True, verified=False, statuses_count=846, lang=None, contributors_enabled=False, is_translator=False, is_translation_enabled=False, profile_background_color='C0DEED', profile_background_image_url='http://abs.twimg.com/images/themes/theme1/bg.png', profile_background_image_url_https='https://abs.twimg.com/images/themes/theme1/bg.png', profile_background_tile=False, profile_image_url='http://pbs.twimg.com/profile_images/1467895124063625221/O5x3G4pa_normal.jpg', profile_image_url_https='https://pbs.twimg.com/profile_images/1467895124063625221/O5x3G4pa_normal.jpg', profile_banner_url='https://pbs.twimg.com/profile_banners/555316720/1588648302', profile_link_color='1DA1F2', profile_sidebar_border_color='C0DEED', profile_sidebar_fill_color='DDEEF6', profile_text_color='333333', profile_use_background_image=True, has_extended_profile=True, default_profile=True, default_profile_image=False, following=False, follow_request_sent=False, notifications=False, translator_type='none', withheld_in_countries=[]), geo=None, coordinates=None, place=None, contributors=None, is_quote_status=False, retweet_count=0, favorite_count=0, favorited=False, retweeted=False, lang='en')"
      ]
     },
     "execution_count": 8,
     "metadata": {},
     "output_type": "execute_result"
    }
   ],
   "source": [
    "data[3]"
   ]
  },
  {
   "cell_type": "code",
   "execution_count": 9,
   "id": "4fdf2eb9",
   "metadata": {},
   "outputs": [],
   "source": [
    "data.to_csv('rawdata.csv')"
   ]
  },
  {
   "cell_type": "markdown",
   "id": "ee59dfbb",
   "metadata": {},
   "source": [
    "### To Create first json file."
   ]
  },
  {
   "cell_type": "code",
   "execution_count": 10,
   "id": "6dc2ead1",
   "metadata": {},
   "outputs": [],
   "source": [
    "d =[]\n",
    "for i in data:\n",
    "    status = i\n",
    "    \n",
    "    json_str = json.dumps(status._json)\n",
    "\n",
    "    parsed = json.loads(json_str)\n",
    "\n",
    "    json.dumps(parsed, indent=4, sort_keys=True)\n",
    "    list = ['created_at','id_str','text','user','place','geo','coordinates','entities','source']\n",
    "    \n",
    "    d.append(dict((k, parsed[k]) for k in list))\n",
    "    \n",
    "with open('Stage1.json', 'w+') as f:          \n",
    "    json.dump(d, f, indent=4)\n",
    "    "
   ]
  },
  {
   "cell_type": "markdown",
   "id": "21dfcef5",
   "metadata": {},
   "source": [
    "## Stage 2 - Process and clean the raw data and save the processed data in log files.\n",
    "### Process and clean the raw data stored in Stage 1 and store the processed data in new log files ensuring that the log file should not exceed 10000 records or 5 Mb in size (whichever constraint is met first). You will have multiple log files for the processed data, choose naming convention for these files wisely as they will be reused in Stage 3. You will have to create a new JSON object to store only relevant information in log files.\n",
    "\n"
   ]
  },
  {
   "cell_type": "markdown",
   "id": "369d3d7b",
   "metadata": {},
   "source": [
    "### Sorting the Tweets from last Cell data."
   ]
  },
  {
   "cell_type": "code",
   "execution_count": 11,
   "id": "6699dff1",
   "metadata": {
    "scrolled": true
   },
   "outputs": [
    {
     "data": {
      "text/html": [
       "<div>\n",
       "<style scoped>\n",
       "    .dataframe tbody tr th:only-of-type {\n",
       "        vertical-align: middle;\n",
       "    }\n",
       "\n",
       "    .dataframe tbody tr th {\n",
       "        vertical-align: top;\n",
       "    }\n",
       "\n",
       "    .dataframe thead th {\n",
       "        text-align: right;\n",
       "    }\n",
       "</style>\n",
       "<table border=\"1\" class=\"dataframe\">\n",
       "  <thead>\n",
       "    <tr style=\"text-align: right;\">\n",
       "      <th></th>\n",
       "      <th>created_at</th>\n",
       "      <th>id_str</th>\n",
       "      <th>text</th>\n",
       "      <th>user</th>\n",
       "      <th>place</th>\n",
       "      <th>geo</th>\n",
       "      <th>coordinates</th>\n",
       "      <th>entities</th>\n",
       "      <th>source</th>\n",
       "    </tr>\n",
       "  </thead>\n",
       "  <tbody>\n",
       "    <tr>\n",
       "      <th>0</th>\n",
       "      <td>2022-05-06 12:19:02+00:00</td>\n",
       "      <td>1522551509459812352</td>\n",
       "      <td>RT @HutchElle: Has any #Canadian official, in ...</td>\n",
       "      <td>{'id': 1222937669535182849, 'id_str': '1222937...</td>\n",
       "      <td>NaN</td>\n",
       "      <td>NaN</td>\n",
       "      <td>NaN</td>\n",
       "      <td>{'hashtags': [{'text': 'Canadian', 'indices': ...</td>\n",
       "      <td>&lt;a href=\"https://mobile.twitter.com\" rel=\"nofo...</td>\n",
       "    </tr>\n",
       "    <tr>\n",
       "      <th>1</th>\n",
       "      <td>2022-05-06 12:18:59+00:00</td>\n",
       "      <td>1522551499758485504</td>\n",
       "      <td>RT @AppliedArtsScot: Hear more from #AASChair ...</td>\n",
       "      <td>{'id': 791924011743797248, 'id_str': '79192401...</td>\n",
       "      <td>NaN</td>\n",
       "      <td>NaN</td>\n",
       "      <td>NaN</td>\n",
       "      <td>{'hashtags': [{'text': 'AASChair', 'indices': ...</td>\n",
       "      <td>&lt;a href=\"http://twitter.com/download/android\" ...</td>\n",
       "    </tr>\n",
       "    <tr>\n",
       "      <th>2</th>\n",
       "      <td>2022-05-06 12:18:43+00:00</td>\n",
       "      <td>1522551429931712512</td>\n",
       "      <td>Finally, the Bears are hiring some data scienc...</td>\n",
       "      <td>{'id': 813867916810747906, 'id_str': '81386791...</td>\n",
       "      <td>NaN</td>\n",
       "      <td>NaN</td>\n",
       "      <td>NaN</td>\n",
       "      <td>{'hashtags': [], 'symbols': [], 'user_mentions...</td>\n",
       "      <td>&lt;a href=\"https://about.twitter.com/products/tw...</td>\n",
       "    </tr>\n",
       "    <tr>\n",
       "      <th>3</th>\n",
       "      <td>2022-05-06 12:18:42+00:00</td>\n",
       "      <td>1522551428040036352</td>\n",
       "      <td>@Adam_Baumel @PeterGiunta If you actually read...</td>\n",
       "      <td>{'id': 555316720, 'id_str': '555316720', 'name...</td>\n",
       "      <td>NaN</td>\n",
       "      <td>NaN</td>\n",
       "      <td>NaN</td>\n",
       "      <td>{'hashtags': [], 'symbols': [], 'user_mentions...</td>\n",
       "      <td>&lt;a href=\"http://twitter.com/download/iphone\" r...</td>\n",
       "    </tr>\n",
       "    <tr>\n",
       "      <th>4</th>\n",
       "      <td>2022-05-06 12:18:29+00:00</td>\n",
       "      <td>1522551370418692096</td>\n",
       "      <td>@FSBuchholzer But 4th dose is not rolled out f...</td>\n",
       "      <td>{'id': 953395932929908737, 'id_str': '95339593...</td>\n",
       "      <td>NaN</td>\n",
       "      <td>NaN</td>\n",
       "      <td>NaN</td>\n",
       "      <td>{'hashtags': [], 'symbols': [], 'user_mentions...</td>\n",
       "      <td>&lt;a href=\"https://mobile.twitter.com\" rel=\"nofo...</td>\n",
       "    </tr>\n",
       "    <tr>\n",
       "      <th>...</th>\n",
       "      <td>...</td>\n",
       "      <td>...</td>\n",
       "      <td>...</td>\n",
       "      <td>...</td>\n",
       "      <td>...</td>\n",
       "      <td>...</td>\n",
       "      <td>...</td>\n",
       "      <td>...</td>\n",
       "      <td>...</td>\n",
       "    </tr>\n",
       "    <tr>\n",
       "      <th>95</th>\n",
       "      <td>2022-05-06 12:00:08+00:00</td>\n",
       "      <td>1522546753156878336</td>\n",
       "      <td>RT @Tech_on_Edge: Most tweeted articles today ...</td>\n",
       "      <td>{'id': 1426441566453862402, 'id_str': '1426441...</td>\n",
       "      <td>NaN</td>\n",
       "      <td>NaN</td>\n",
       "      <td>NaN</td>\n",
       "      <td>{'hashtags': [{'text': 'DataAnalytics', 'indic...</td>\n",
       "      <td>&lt;a href=\"https://help.twitter.com/en/using-twi...</td>\n",
       "    </tr>\n",
       "    <tr>\n",
       "      <th>96</th>\n",
       "      <td>2022-05-06 12:00:08+00:00</td>\n",
       "      <td>1522546753022709760</td>\n",
       "      <td>RT @realgabecoded: data science doesn't have t...</td>\n",
       "      <td>{'id': 1352643360092278787, 'id_str': '1352643...</td>\n",
       "      <td>NaN</td>\n",
       "      <td>NaN</td>\n",
       "      <td>NaN</td>\n",
       "      <td>{'hashtags': [], 'symbols': [], 'user_mentions...</td>\n",
       "      <td>&lt;a href=\"https://hypefury.com\" rel=\"nofollow\"&gt;...</td>\n",
       "    </tr>\n",
       "    <tr>\n",
       "      <th>97</th>\n",
       "      <td>2022-05-06 12:00:07+00:00</td>\n",
       "      <td>1522546750107840512</td>\n",
       "      <td>There are 20,001 machine learning and data sci...</td>\n",
       "      <td>{'id': 18737039, 'id_str': '18737039', 'name':...</td>\n",
       "      <td>NaN</td>\n",
       "      <td>NaN</td>\n",
       "      <td>NaN</td>\n",
       "      <td>{'hashtags': [], 'symbols': [], 'user_mentions...</td>\n",
       "      <td>&lt;a href=\"https://typefully.com/\" rel=\"nofollow...</td>\n",
       "    </tr>\n",
       "    <tr>\n",
       "      <th>98</th>\n",
       "      <td>2022-05-06 12:00:07+00:00</td>\n",
       "      <td>1522546749776273408</td>\n",
       "      <td>RT @Tech_on_Edge: Most tweeted articles today ...</td>\n",
       "      <td>{'id': 1426441566453862402, 'id_str': '1426441...</td>\n",
       "      <td>NaN</td>\n",
       "      <td>NaN</td>\n",
       "      <td>NaN</td>\n",
       "      <td>{'hashtags': [], 'symbols': [], 'user_mentions...</td>\n",
       "      <td>&lt;a href=\"https://help.twitter.com/en/using-twi...</td>\n",
       "    </tr>\n",
       "    <tr>\n",
       "      <th>99</th>\n",
       "      <td>2022-05-06 12:00:07+00:00</td>\n",
       "      <td>1522546748429946880</td>\n",
       "      <td>RT @channel969: Top 5 Data Science Roles in Eu...</td>\n",
       "      <td>{'id': 729869871484260353, 'id_str': '72986987...</td>\n",
       "      <td>NaN</td>\n",
       "      <td>NaN</td>\n",
       "      <td>NaN</td>\n",
       "      <td>{'hashtags': [{'text': 'SEO', 'indices': [76, ...</td>\n",
       "      <td>&lt;a href=\"http://robotconsumer.com/\" rel=\"nofol...</td>\n",
       "    </tr>\n",
       "  </tbody>\n",
       "</table>\n",
       "<p>100 rows × 9 columns</p>\n",
       "</div>"
      ],
      "text/plain": [
       "                  created_at               id_str  \\\n",
       "0  2022-05-06 12:19:02+00:00  1522551509459812352   \n",
       "1  2022-05-06 12:18:59+00:00  1522551499758485504   \n",
       "2  2022-05-06 12:18:43+00:00  1522551429931712512   \n",
       "3  2022-05-06 12:18:42+00:00  1522551428040036352   \n",
       "4  2022-05-06 12:18:29+00:00  1522551370418692096   \n",
       "..                       ...                  ...   \n",
       "95 2022-05-06 12:00:08+00:00  1522546753156878336   \n",
       "96 2022-05-06 12:00:08+00:00  1522546753022709760   \n",
       "97 2022-05-06 12:00:07+00:00  1522546750107840512   \n",
       "98 2022-05-06 12:00:07+00:00  1522546749776273408   \n",
       "99 2022-05-06 12:00:07+00:00  1522546748429946880   \n",
       "\n",
       "                                                 text  \\\n",
       "0   RT @HutchElle: Has any #Canadian official, in ...   \n",
       "1   RT @AppliedArtsScot: Hear more from #AASChair ...   \n",
       "2   Finally, the Bears are hiring some data scienc...   \n",
       "3   @Adam_Baumel @PeterGiunta If you actually read...   \n",
       "4   @FSBuchholzer But 4th dose is not rolled out f...   \n",
       "..                                                ...   \n",
       "95  RT @Tech_on_Edge: Most tweeted articles today ...   \n",
       "96  RT @realgabecoded: data science doesn't have t...   \n",
       "97  There are 20,001 machine learning and data sci...   \n",
       "98  RT @Tech_on_Edge: Most tweeted articles today ...   \n",
       "99  RT @channel969: Top 5 Data Science Roles in Eu...   \n",
       "\n",
       "                                                 user  place  geo  \\\n",
       "0   {'id': 1222937669535182849, 'id_str': '1222937...    NaN  NaN   \n",
       "1   {'id': 791924011743797248, 'id_str': '79192401...    NaN  NaN   \n",
       "2   {'id': 813867916810747906, 'id_str': '81386791...    NaN  NaN   \n",
       "3   {'id': 555316720, 'id_str': '555316720', 'name...    NaN  NaN   \n",
       "4   {'id': 953395932929908737, 'id_str': '95339593...    NaN  NaN   \n",
       "..                                                ...    ...  ...   \n",
       "95  {'id': 1426441566453862402, 'id_str': '1426441...    NaN  NaN   \n",
       "96  {'id': 1352643360092278787, 'id_str': '1352643...    NaN  NaN   \n",
       "97  {'id': 18737039, 'id_str': '18737039', 'name':...    NaN  NaN   \n",
       "98  {'id': 1426441566453862402, 'id_str': '1426441...    NaN  NaN   \n",
       "99  {'id': 729869871484260353, 'id_str': '72986987...    NaN  NaN   \n",
       "\n",
       "    coordinates                                           entities  \\\n",
       "0           NaN  {'hashtags': [{'text': 'Canadian', 'indices': ...   \n",
       "1           NaN  {'hashtags': [{'text': 'AASChair', 'indices': ...   \n",
       "2           NaN  {'hashtags': [], 'symbols': [], 'user_mentions...   \n",
       "3           NaN  {'hashtags': [], 'symbols': [], 'user_mentions...   \n",
       "4           NaN  {'hashtags': [], 'symbols': [], 'user_mentions...   \n",
       "..          ...                                                ...   \n",
       "95          NaN  {'hashtags': [{'text': 'DataAnalytics', 'indic...   \n",
       "96          NaN  {'hashtags': [], 'symbols': [], 'user_mentions...   \n",
       "97          NaN  {'hashtags': [], 'symbols': [], 'user_mentions...   \n",
       "98          NaN  {'hashtags': [], 'symbols': [], 'user_mentions...   \n",
       "99          NaN  {'hashtags': [{'text': 'SEO', 'indices': [76, ...   \n",
       "\n",
       "                                               source  \n",
       "0   <a href=\"https://mobile.twitter.com\" rel=\"nofo...  \n",
       "1   <a href=\"http://twitter.com/download/android\" ...  \n",
       "2   <a href=\"https://about.twitter.com/products/tw...  \n",
       "3   <a href=\"http://twitter.com/download/iphone\" r...  \n",
       "4   <a href=\"https://mobile.twitter.com\" rel=\"nofo...  \n",
       "..                                                ...  \n",
       "95  <a href=\"https://help.twitter.com/en/using-twi...  \n",
       "96  <a href=\"https://hypefury.com\" rel=\"nofollow\">...  \n",
       "97  <a href=\"https://typefully.com/\" rel=\"nofollow...  \n",
       "98  <a href=\"https://help.twitter.com/en/using-twi...  \n",
       "99  <a href=\"http://robotconsumer.com/\" rel=\"nofol...  \n",
       "\n",
       "[100 rows x 9 columns]"
      ]
     },
     "execution_count": 11,
     "metadata": {},
     "output_type": "execute_result"
    }
   ],
   "source": [
    "df=pd.read_json(\"Stage1.json\")\n",
    "df"
   ]
  },
  {
   "cell_type": "code",
   "execution_count": 12,
   "id": "36dcf644",
   "metadata": {},
   "outputs": [
    {
     "data": {
      "text/html": [
       "<div>\n",
       "<style scoped>\n",
       "    .dataframe tbody tr th:only-of-type {\n",
       "        vertical-align: middle;\n",
       "    }\n",
       "\n",
       "    .dataframe tbody tr th {\n",
       "        vertical-align: top;\n",
       "    }\n",
       "\n",
       "    .dataframe thead th {\n",
       "        text-align: right;\n",
       "    }\n",
       "</style>\n",
       "<table border=\"1\" class=\"dataframe\">\n",
       "  <thead>\n",
       "    <tr style=\"text-align: right;\">\n",
       "      <th></th>\n",
       "      <th>created_at</th>\n",
       "      <th>id_str</th>\n",
       "      <th>text</th>\n",
       "      <th>user</th>\n",
       "      <th>entities</th>\n",
       "      <th>source</th>\n",
       "    </tr>\n",
       "  </thead>\n",
       "  <tbody>\n",
       "    <tr>\n",
       "      <th>0</th>\n",
       "      <td>2022-05-06 12:19:02+00:00</td>\n",
       "      <td>1522551509459812352</td>\n",
       "      <td>RT @HutchElle: Has any #Canadian official, in ...</td>\n",
       "      <td>{'id': 1222937669535182849, 'id_str': '1222937...</td>\n",
       "      <td>{'hashtags': [{'text': 'Canadian', 'indices': ...</td>\n",
       "      <td>&lt;a href=\"https://mobile.twitter.com\" rel=\"nofo...</td>\n",
       "    </tr>\n",
       "    <tr>\n",
       "      <th>1</th>\n",
       "      <td>2022-05-06 12:18:59+00:00</td>\n",
       "      <td>1522551499758485504</td>\n",
       "      <td>RT @AppliedArtsScot: Hear more from #AASChair ...</td>\n",
       "      <td>{'id': 791924011743797248, 'id_str': '79192401...</td>\n",
       "      <td>{'hashtags': [{'text': 'AASChair', 'indices': ...</td>\n",
       "      <td>&lt;a href=\"http://twitter.com/download/android\" ...</td>\n",
       "    </tr>\n",
       "    <tr>\n",
       "      <th>2</th>\n",
       "      <td>2022-05-06 12:18:43+00:00</td>\n",
       "      <td>1522551429931712512</td>\n",
       "      <td>Finally, the Bears are hiring some data scienc...</td>\n",
       "      <td>{'id': 813867916810747906, 'id_str': '81386791...</td>\n",
       "      <td>{'hashtags': [], 'symbols': [], 'user_mentions...</td>\n",
       "      <td>&lt;a href=\"https://about.twitter.com/products/tw...</td>\n",
       "    </tr>\n",
       "    <tr>\n",
       "      <th>3</th>\n",
       "      <td>2022-05-06 12:18:42+00:00</td>\n",
       "      <td>1522551428040036352</td>\n",
       "      <td>@Adam_Baumel @PeterGiunta If you actually read...</td>\n",
       "      <td>{'id': 555316720, 'id_str': '555316720', 'name...</td>\n",
       "      <td>{'hashtags': [], 'symbols': [], 'user_mentions...</td>\n",
       "      <td>&lt;a href=\"http://twitter.com/download/iphone\" r...</td>\n",
       "    </tr>\n",
       "    <tr>\n",
       "      <th>4</th>\n",
       "      <td>2022-05-06 12:18:29+00:00</td>\n",
       "      <td>1522551370418692096</td>\n",
       "      <td>@FSBuchholzer But 4th dose is not rolled out f...</td>\n",
       "      <td>{'id': 953395932929908737, 'id_str': '95339593...</td>\n",
       "      <td>{'hashtags': [], 'symbols': [], 'user_mentions...</td>\n",
       "      <td>&lt;a href=\"https://mobile.twitter.com\" rel=\"nofo...</td>\n",
       "    </tr>\n",
       "    <tr>\n",
       "      <th>...</th>\n",
       "      <td>...</td>\n",
       "      <td>...</td>\n",
       "      <td>...</td>\n",
       "      <td>...</td>\n",
       "      <td>...</td>\n",
       "      <td>...</td>\n",
       "    </tr>\n",
       "    <tr>\n",
       "      <th>95</th>\n",
       "      <td>2022-05-06 12:00:08+00:00</td>\n",
       "      <td>1522546753156878336</td>\n",
       "      <td>RT @Tech_on_Edge: Most tweeted articles today ...</td>\n",
       "      <td>{'id': 1426441566453862402, 'id_str': '1426441...</td>\n",
       "      <td>{'hashtags': [{'text': 'DataAnalytics', 'indic...</td>\n",
       "      <td>&lt;a href=\"https://help.twitter.com/en/using-twi...</td>\n",
       "    </tr>\n",
       "    <tr>\n",
       "      <th>96</th>\n",
       "      <td>2022-05-06 12:00:08+00:00</td>\n",
       "      <td>1522546753022709760</td>\n",
       "      <td>RT @realgabecoded: data science doesn't have t...</td>\n",
       "      <td>{'id': 1352643360092278787, 'id_str': '1352643...</td>\n",
       "      <td>{'hashtags': [], 'symbols': [], 'user_mentions...</td>\n",
       "      <td>&lt;a href=\"https://hypefury.com\" rel=\"nofollow\"&gt;...</td>\n",
       "    </tr>\n",
       "    <tr>\n",
       "      <th>97</th>\n",
       "      <td>2022-05-06 12:00:07+00:00</td>\n",
       "      <td>1522546750107840512</td>\n",
       "      <td>There are 20,001 machine learning and data sci...</td>\n",
       "      <td>{'id': 18737039, 'id_str': '18737039', 'name':...</td>\n",
       "      <td>{'hashtags': [], 'symbols': [], 'user_mentions...</td>\n",
       "      <td>&lt;a href=\"https://typefully.com/\" rel=\"nofollow...</td>\n",
       "    </tr>\n",
       "    <tr>\n",
       "      <th>98</th>\n",
       "      <td>2022-05-06 12:00:07+00:00</td>\n",
       "      <td>1522546749776273408</td>\n",
       "      <td>RT @Tech_on_Edge: Most tweeted articles today ...</td>\n",
       "      <td>{'id': 1426441566453862402, 'id_str': '1426441...</td>\n",
       "      <td>{'hashtags': [], 'symbols': [], 'user_mentions...</td>\n",
       "      <td>&lt;a href=\"https://help.twitter.com/en/using-twi...</td>\n",
       "    </tr>\n",
       "    <tr>\n",
       "      <th>99</th>\n",
       "      <td>2022-05-06 12:00:07+00:00</td>\n",
       "      <td>1522546748429946880</td>\n",
       "      <td>RT @channel969: Top 5 Data Science Roles in Eu...</td>\n",
       "      <td>{'id': 729869871484260353, 'id_str': '72986987...</td>\n",
       "      <td>{'hashtags': [{'text': 'SEO', 'indices': [76, ...</td>\n",
       "      <td>&lt;a href=\"http://robotconsumer.com/\" rel=\"nofol...</td>\n",
       "    </tr>\n",
       "  </tbody>\n",
       "</table>\n",
       "<p>100 rows × 6 columns</p>\n",
       "</div>"
      ],
      "text/plain": [
       "                  created_at               id_str  \\\n",
       "0  2022-05-06 12:19:02+00:00  1522551509459812352   \n",
       "1  2022-05-06 12:18:59+00:00  1522551499758485504   \n",
       "2  2022-05-06 12:18:43+00:00  1522551429931712512   \n",
       "3  2022-05-06 12:18:42+00:00  1522551428040036352   \n",
       "4  2022-05-06 12:18:29+00:00  1522551370418692096   \n",
       "..                       ...                  ...   \n",
       "95 2022-05-06 12:00:08+00:00  1522546753156878336   \n",
       "96 2022-05-06 12:00:08+00:00  1522546753022709760   \n",
       "97 2022-05-06 12:00:07+00:00  1522546750107840512   \n",
       "98 2022-05-06 12:00:07+00:00  1522546749776273408   \n",
       "99 2022-05-06 12:00:07+00:00  1522546748429946880   \n",
       "\n",
       "                                                 text  \\\n",
       "0   RT @HutchElle: Has any #Canadian official, in ...   \n",
       "1   RT @AppliedArtsScot: Hear more from #AASChair ...   \n",
       "2   Finally, the Bears are hiring some data scienc...   \n",
       "3   @Adam_Baumel @PeterGiunta If you actually read...   \n",
       "4   @FSBuchholzer But 4th dose is not rolled out f...   \n",
       "..                                                ...   \n",
       "95  RT @Tech_on_Edge: Most tweeted articles today ...   \n",
       "96  RT @realgabecoded: data science doesn't have t...   \n",
       "97  There are 20,001 machine learning and data sci...   \n",
       "98  RT @Tech_on_Edge: Most tweeted articles today ...   \n",
       "99  RT @channel969: Top 5 Data Science Roles in Eu...   \n",
       "\n",
       "                                                 user  \\\n",
       "0   {'id': 1222937669535182849, 'id_str': '1222937...   \n",
       "1   {'id': 791924011743797248, 'id_str': '79192401...   \n",
       "2   {'id': 813867916810747906, 'id_str': '81386791...   \n",
       "3   {'id': 555316720, 'id_str': '555316720', 'name...   \n",
       "4   {'id': 953395932929908737, 'id_str': '95339593...   \n",
       "..                                                ...   \n",
       "95  {'id': 1426441566453862402, 'id_str': '1426441...   \n",
       "96  {'id': 1352643360092278787, 'id_str': '1352643...   \n",
       "97  {'id': 18737039, 'id_str': '18737039', 'name':...   \n",
       "98  {'id': 1426441566453862402, 'id_str': '1426441...   \n",
       "99  {'id': 729869871484260353, 'id_str': '72986987...   \n",
       "\n",
       "                                             entities  \\\n",
       "0   {'hashtags': [{'text': 'Canadian', 'indices': ...   \n",
       "1   {'hashtags': [{'text': 'AASChair', 'indices': ...   \n",
       "2   {'hashtags': [], 'symbols': [], 'user_mentions...   \n",
       "3   {'hashtags': [], 'symbols': [], 'user_mentions...   \n",
       "4   {'hashtags': [], 'symbols': [], 'user_mentions...   \n",
       "..                                                ...   \n",
       "95  {'hashtags': [{'text': 'DataAnalytics', 'indic...   \n",
       "96  {'hashtags': [], 'symbols': [], 'user_mentions...   \n",
       "97  {'hashtags': [], 'symbols': [], 'user_mentions...   \n",
       "98  {'hashtags': [], 'symbols': [], 'user_mentions...   \n",
       "99  {'hashtags': [{'text': 'SEO', 'indices': [76, ...   \n",
       "\n",
       "                                               source  \n",
       "0   <a href=\"https://mobile.twitter.com\" rel=\"nofo...  \n",
       "1   <a href=\"http://twitter.com/download/android\" ...  \n",
       "2   <a href=\"https://about.twitter.com/products/tw...  \n",
       "3   <a href=\"http://twitter.com/download/iphone\" r...  \n",
       "4   <a href=\"https://mobile.twitter.com\" rel=\"nofo...  \n",
       "..                                                ...  \n",
       "95  <a href=\"https://help.twitter.com/en/using-twi...  \n",
       "96  <a href=\"https://hypefury.com\" rel=\"nofollow\">...  \n",
       "97  <a href=\"https://typefully.com/\" rel=\"nofollow...  \n",
       "98  <a href=\"https://help.twitter.com/en/using-twi...  \n",
       "99  <a href=\"http://robotconsumer.com/\" rel=\"nofol...  \n",
       "\n",
       "[100 rows x 6 columns]"
      ]
     },
     "execution_count": 12,
     "metadata": {},
     "output_type": "execute_result"
    }
   ],
   "source": [
    "df=df.dropna(axis='columns')\n",
    "df"
   ]
  },
  {
   "cell_type": "code",
   "execution_count": 13,
   "id": "c40f587d",
   "metadata": {},
   "outputs": [
    {
     "name": "stdout",
     "output_type": "stream",
     "text": [
      "2022-05-06 12:19:02+00:00 1522551509459812352 User(_api=<tweepy.api.API object at 0x000001703F431310>, _json={'id': 1222937669535182849, 'id_str': '1222937669535182849', 'name': 'John Cunnington 🇨🇦 : First do no harm!', 'screen_name': 'JohnCunnington5', 'location': 'Hamilton, ON', 'description': 'Retired McMaster University internist & respirologist.\\nMandates = bad medicine. Bodily autonomy is the hill to die on.', 'url': None, 'entities': {'description': {'urls': []}}, 'protected': False, 'followers_count': 32562, 'friends_count': 2198, 'listed_count': 92, 'created_at': 'Thu Jan 30 17:41:23 +0000 2020', 'favourites_count': 22328, 'utc_offset': None, 'time_zone': None, 'geo_enabled': False, 'verified': False, 'statuses_count': 20165, 'lang': None, 'contributors_enabled': False, 'is_translator': False, 'is_translation_enabled': False, 'profile_background_color': 'F5F8FA', 'profile_background_image_url': None, 'profile_background_image_url_https': None, 'profile_background_tile': False, 'profile_image_url': 'http://pbs.twimg.com/profile_images/1393331493351612421/klfRR8ey_normal.jpg', 'profile_image_url_https': 'https://pbs.twimg.com/profile_images/1393331493351612421/klfRR8ey_normal.jpg', 'profile_banner_url': 'https://pbs.twimg.com/profile_banners/1222937669535182849/1638543229', 'profile_link_color': '1DA1F2', 'profile_sidebar_border_color': 'C0DEED', 'profile_sidebar_fill_color': 'DDEEF6', 'profile_text_color': '333333', 'profile_use_background_image': True, 'has_extended_profile': False, 'default_profile': True, 'default_profile_image': False, 'following': False, 'follow_request_sent': False, 'notifications': False, 'translator_type': 'none', 'withheld_in_countries': []}, id=1222937669535182849, id_str='1222937669535182849', name='John Cunnington 🇨🇦 : First do no harm!', screen_name='JohnCunnington5', location='Hamilton, ON', description='Retired McMaster University internist & respirologist.\\nMandates = bad medicine. Bodily autonomy is the hill to die on.', url=None, entities={'description': {'urls': []}}, protected=False, followers_count=32562, friends_count=2198, listed_count=92, created_at=datetime.datetime(2020, 1, 30, 17, 41, 23, tzinfo=datetime.timezone.utc), favourites_count=22328, utc_offset=None, time_zone=None, geo_enabled=False, verified=False, statuses_count=20165, lang=None, contributors_enabled=False, is_translator=False, is_translation_enabled=False, profile_background_color='F5F8FA', profile_background_image_url=None, profile_background_image_url_https=None, profile_background_tile=False, profile_image_url='http://pbs.twimg.com/profile_images/1393331493351612421/klfRR8ey_normal.jpg', profile_image_url_https='https://pbs.twimg.com/profile_images/1393331493351612421/klfRR8ey_normal.jpg', profile_banner_url='https://pbs.twimg.com/profile_banners/1222937669535182849/1638543229', profile_link_color='1DA1F2', profile_sidebar_border_color='C0DEED', profile_sidebar_fill_color='DDEEF6', profile_text_color='333333', profile_use_background_image=True, has_extended_profile=False, default_profile=True, default_profile_image=False, following=False, follow_request_sent=False, notifications=False, translator_type='none', withheld_in_countries=[]) RT @HutchElle: Has any #Canadian official, in ANY capacity, even acknowledged the #pfizerdocuments?\n",
      "\n",
      "@CPHO_Canada, @celliottability\n",
      "@Justin… Twitter Web App {'hashtags': [{'text': 'Canadian', 'indices': [23, 32]}, {'text': 'pfizerdocuments', 'indices': [82, 98]}], 'symbols': [], 'user_mentions': [{'screen_name': 'HutchElle', 'name': 'Elle Hutch 🇨🇦', 'id': 1487820345692332032, 'id_str': '1487820345692332032', 'indices': [3, 13]}, {'screen_name': 'CPHO_Canada', 'name': 'Dr. Theresa Tam', 'id': 2314087860, 'id_str': '2314087860', 'indices': [101, 113]}, {'screen_name': 'celliottability', 'name': 'Christine Elliott', 'id': 821699497, 'id_str': '821699497', 'indices': [115, 131]}], 'urls': []} 5\n",
      "2022-05-06 12:18:59+00:00 1522551499758485505 User(_api=<tweepy.api.API object at 0x000001703F431310>, _json={'id': 791924011743797248, 'id_str': '791924011743797248', 'name': \"Lynne's Loom: Weaving Science\", 'screen_name': 'LynnesLoom', 'location': 'Scotland, United Kingdom', 'description': 'Dr Lynne Hocking, PhD (she/her).\\n\\nHandweaver and geneticist, connecting science and art through making.\\n\\nChair @AppliedArtsScot.\\n\\nOpinions my own 😁', 'url': 'https://t.co/EkjADUb6L0', 'entities': {'url': {'urls': [{'url': 'https://t.co/EkjADUb6L0', 'expanded_url': 'http://www.lynnesloom.co.uk', 'display_url': 'lynnesloom.co.uk', 'indices': [0, 23]}]}, 'description': {'urls': []}}, 'protected': False, 'followers_count': 354, 'friends_count': 564, 'listed_count': 6, 'created_at': 'Fri Oct 28 08:46:12 +0000 2016', 'favourites_count': 4899, 'utc_offset': None, 'time_zone': None, 'geo_enabled': True, 'verified': False, 'statuses_count': 1343, 'lang': None, 'contributors_enabled': False, 'is_translator': False, 'is_translation_enabled': False, 'profile_background_color': '000000', 'profile_background_image_url': 'http://abs.twimg.com/images/themes/theme1/bg.png', 'profile_background_image_url_https': 'https://abs.twimg.com/images/themes/theme1/bg.png', 'profile_background_tile': False, 'profile_image_url': 'http://pbs.twimg.com/profile_images/1165883593501138944/q1pnmBEL_normal.jpg', 'profile_image_url_https': 'https://pbs.twimg.com/profile_images/1165883593501138944/q1pnmBEL_normal.jpg', 'profile_banner_url': 'https://pbs.twimg.com/profile_banners/791924011743797248/1646694550', 'profile_link_color': '1B95E0', 'profile_sidebar_border_color': '000000', 'profile_sidebar_fill_color': '000000', 'profile_text_color': '000000', 'profile_use_background_image': False, 'has_extended_profile': False, 'default_profile': False, 'default_profile_image': False, 'following': False, 'follow_request_sent': False, 'notifications': False, 'translator_type': 'none', 'withheld_in_countries': []}, id=791924011743797248, id_str='791924011743797248', name=\"Lynne's Loom: Weaving Science\", screen_name='LynnesLoom', location='Scotland, United Kingdom', description='Dr Lynne Hocking, PhD (she/her).\\n\\nHandweaver and geneticist, connecting science and art through making.\\n\\nChair @AppliedArtsScot.\\n\\nOpinions my own 😁', url='https://t.co/EkjADUb6L0', entities={'url': {'urls': [{'url': 'https://t.co/EkjADUb6L0', 'expanded_url': 'http://www.lynnesloom.co.uk', 'display_url': 'lynnesloom.co.uk', 'indices': [0, 23]}]}, 'description': {'urls': []}}, protected=False, followers_count=354, friends_count=564, listed_count=6, created_at=datetime.datetime(2016, 10, 28, 8, 46, 12, tzinfo=datetime.timezone.utc), favourites_count=4899, utc_offset=None, time_zone=None, geo_enabled=True, verified=False, statuses_count=1343, lang=None, contributors_enabled=False, is_translator=False, is_translation_enabled=False, profile_background_color='000000', profile_background_image_url='http://abs.twimg.com/images/themes/theme1/bg.png', profile_background_image_url_https='https://abs.twimg.com/images/themes/theme1/bg.png', profile_background_tile=False, profile_image_url='http://pbs.twimg.com/profile_images/1165883593501138944/q1pnmBEL_normal.jpg', profile_image_url_https='https://pbs.twimg.com/profile_images/1165883593501138944/q1pnmBEL_normal.jpg', profile_banner_url='https://pbs.twimg.com/profile_banners/791924011743797248/1646694550', profile_link_color='1B95E0', profile_sidebar_border_color='000000', profile_sidebar_fill_color='000000', profile_text_color='000000', profile_use_background_image=False, has_extended_profile=False, default_profile=False, default_profile_image=False, following=False, follow_request_sent=False, notifications=False, translator_type='none', withheld_in_countries=[]) RT @AppliedArtsScot: Hear more from #AASChair @LynnesLoom about her  #weaving practice informed by science &amp; data Twitter for Android {'hashtags': [{'text': 'AASChair', 'indices': [36, 45]}, {'text': 'weaving', 'indices': [69, 77]}], 'symbols': [], 'user_mentions': [{'screen_name': 'AppliedArtsScot', 'name': 'AppliedArtsScotland', 'id': 861947035, 'id_str': '861947035', 'indices': [3, 19]}, {'screen_name': 'LynnesLoom', 'name': \"Lynne's Loom: Weaving Science\", 'id': 791924011743797248, 'id_str': '791924011743797248', 'indices': [46, 57]}], 'urls': []} 1\n",
      "2022-05-06 12:18:43+00:00 1522551429931712513 User(_api=<tweepy.api.API object at 0x000001703F431310>, _json={'id': 813867916810747906, 'id_str': '813867916810747906', 'name': 'Bleacher Nation Bears', 'screen_name': 'BN_Bears', 'location': 'Chicago, IL', 'description': 'Obsessing over Ryan Poles and Matt Eberflus building a Bears Super Bowl winner around Justin Fields and friends! \\n\\n#BearDown #ChicagoBears', 'url': 'https://t.co/LFMd7bIjls', 'entities': {'url': {'urls': [{'url': 'https://t.co/LFMd7bIjls', 'expanded_url': 'https://bleachernation.com/bears', 'display_url': 'bleachernation.com/bears', 'indices': [0, 23]}]}, 'description': {'urls': []}}, 'protected': False, 'followers_count': 36592, 'friends_count': 3472, 'listed_count': 364, 'created_at': 'Tue Dec 27 22:03:27 +0000 2016', 'favourites_count': 5312, 'utc_offset': None, 'time_zone': None, 'geo_enabled': True, 'verified': False, 'statuses_count': 44422, 'lang': None, 'contributors_enabled': False, 'is_translator': False, 'is_translation_enabled': False, 'profile_background_color': 'F5F8FA', 'profile_background_image_url': None, 'profile_background_image_url_https': None, 'profile_background_tile': False, 'profile_image_url': 'http://pbs.twimg.com/profile_images/1105577250613809152/etXWVZ1n_normal.png', 'profile_image_url_https': 'https://pbs.twimg.com/profile_images/1105577250613809152/etXWVZ1n_normal.png', 'profile_banner_url': 'https://pbs.twimg.com/profile_banners/813867916810747906/1552425120', 'profile_link_color': '1DA1F2', 'profile_sidebar_border_color': 'C0DEED', 'profile_sidebar_fill_color': 'DDEEF6', 'profile_text_color': '333333', 'profile_use_background_image': True, 'has_extended_profile': True, 'default_profile': True, 'default_profile_image': False, 'following': False, 'follow_request_sent': False, 'notifications': False, 'translator_type': 'none', 'withheld_in_countries': []}, id=813867916810747906, id_str='813867916810747906', name='Bleacher Nation Bears', screen_name='BN_Bears', location='Chicago, IL', description='Obsessing over Ryan Poles and Matt Eberflus building a Bears Super Bowl winner around Justin Fields and friends! \\n\\n#BearDown #ChicagoBears', url='https://t.co/LFMd7bIjls', entities={'url': {'urls': [{'url': 'https://t.co/LFMd7bIjls', 'expanded_url': 'https://bleachernation.com/bears', 'display_url': 'bleachernation.com/bears', 'indices': [0, 23]}]}, 'description': {'urls': []}}, protected=False, followers_count=36592, friends_count=3472, listed_count=364, created_at=datetime.datetime(2016, 12, 27, 22, 3, 27, tzinfo=datetime.timezone.utc), favourites_count=5312, utc_offset=None, time_zone=None, geo_enabled=True, verified=False, statuses_count=44422, lang=None, contributors_enabled=False, is_translator=False, is_translation_enabled=False, profile_background_color='F5F8FA', profile_background_image_url=None, profile_background_image_url_https=None, profile_background_tile=False, profile_image_url='http://pbs.twimg.com/profile_images/1105577250613809152/etXWVZ1n_normal.png', profile_image_url_https='https://pbs.twimg.com/profile_images/1105577250613809152/etXWVZ1n_normal.png', profile_banner_url='https://pbs.twimg.com/profile_banners/813867916810747906/1552425120', profile_link_color='1DA1F2', profile_sidebar_border_color='C0DEED', profile_sidebar_fill_color='DDEEF6', profile_text_color='333333', profile_use_background_image=True, has_extended_profile=True, default_profile=True, default_profile_image=False, following=False, follow_request_sent=False, notifications=False, translator_type='none', withheld_in_countries=[]) Finally, the Bears are hiring some data science nerds: https://t.co/1m9fUtJmWz https://t.co/N3JHLYKIyr TweetDeck {'hashtags': [], 'symbols': [], 'user_mentions': [], 'urls': [{'url': 'https://t.co/1m9fUtJmWz', 'expanded_url': 'https://www.bleachernation.com/bears/2022/05/05/the-bears-are-trying-to-hire-some-nerds/', 'display_url': 'bleachernation.com/bears/2022/05/…', 'indices': [55, 78]}], 'media': [{'id': 1522551366996176897, 'id_str': '1522551366996176897', 'indices': [79, 102], 'media_url': 'http://pbs.twimg.com/media/FSEwZsYXsAEWCTr.jpg', 'media_url_https': 'https://pbs.twimg.com/media/FSEwZsYXsAEWCTr.jpg', 'url': 'https://t.co/N3JHLYKIyr', 'display_url': 'pic.twitter.com/N3JHLYKIyr', 'expanded_url': 'https://twitter.com/BN_Bears/status/1522551429931712513/photo/1', 'type': 'photo', 'sizes': {'thumb': {'w': 150, 'h': 150, 'resize': 'crop'}, 'medium': {'w': 930, 'h': 552, 'resize': 'fit'}, 'large': {'w': 930, 'h': 552, 'resize': 'fit'}, 'small': {'w': 680, 'h': 404, 'resize': 'fit'}}}]} 0\n"
     ]
    }
   ],
   "source": [
    "#only 3 tweets will show here.\n",
    "DT = []\n",
    "ID = []\n",
    "U = []\n",
    "T = []\n",
    "P = []\n",
    "E = []\n",
    "R = []\n",
    "for tweet in tweepy.Cursor(api.search_tweets, q=search_key, count=no_of_tweet,lang=\"en\").items(3):\n",
    "    print(tweet.created_at,tweet.id_str,tweet.user,tweet.text,tweet.source,tweet.entities,tweet.retweet_count)\n",
    "    DT.append(tweet.created_at)\n",
    "    ID.append(tweet.id_str)\n",
    "    U.append(tweet.user)\n",
    "    T.append(tweet.text)\n",
    "    P.append(tweet.source)\n",
    "    E.append(tweet.entities)\n",
    "    R.append(tweet.retweet_count)\n"
   ]
  },
  {
   "cell_type": "code",
   "execution_count": 14,
   "id": "eb53be88",
   "metadata": {},
   "outputs": [
    {
     "data": {
      "text/html": [
       "<div>\n",
       "<style scoped>\n",
       "    .dataframe tbody tr th:only-of-type {\n",
       "        vertical-align: middle;\n",
       "    }\n",
       "\n",
       "    .dataframe tbody tr th {\n",
       "        vertical-align: top;\n",
       "    }\n",
       "\n",
       "    .dataframe thead th {\n",
       "        text-align: right;\n",
       "    }\n",
       "</style>\n",
       "<table border=\"1\" class=\"dataframe\">\n",
       "  <thead>\n",
       "    <tr style=\"text-align: right;\">\n",
       "      <th></th>\n",
       "      <th>Date and Time</th>\n",
       "      <th>User id</th>\n",
       "      <th>UserName</th>\n",
       "      <th>Tweet</th>\n",
       "      <th>URL</th>\n",
       "      <th>Hashtags and Mention</th>\n",
       "      <th>No. of Retweet</th>\n",
       "    </tr>\n",
       "  </thead>\n",
       "  <tbody>\n",
       "    <tr>\n",
       "      <th>0</th>\n",
       "      <td>2022-05-06 12:19:02+00:00</td>\n",
       "      <td>1522551509459812352</td>\n",
       "      <td>User(_api=&lt;tweepy.api.API object at 0x00000170...</td>\n",
       "      <td>RT @HutchElle: Has any #Canadian official, in ...</td>\n",
       "      <td>Twitter Web App</td>\n",
       "      <td>{'hashtags': [{'text': 'Canadian', 'indices': ...</td>\n",
       "      <td>5</td>\n",
       "    </tr>\n",
       "    <tr>\n",
       "      <th>1</th>\n",
       "      <td>2022-05-06 12:18:59+00:00</td>\n",
       "      <td>1522551499758485505</td>\n",
       "      <td>User(_api=&lt;tweepy.api.API object at 0x00000170...</td>\n",
       "      <td>RT @AppliedArtsScot: Hear more from #AASChair ...</td>\n",
       "      <td>Twitter for Android</td>\n",
       "      <td>{'hashtags': [{'text': 'AASChair', 'indices': ...</td>\n",
       "      <td>1</td>\n",
       "    </tr>\n",
       "    <tr>\n",
       "      <th>2</th>\n",
       "      <td>2022-05-06 12:18:43+00:00</td>\n",
       "      <td>1522551429931712513</td>\n",
       "      <td>User(_api=&lt;tweepy.api.API object at 0x00000170...</td>\n",
       "      <td>Finally, the Bears are hiring some data scienc...</td>\n",
       "      <td>TweetDeck</td>\n",
       "      <td>{'hashtags': [], 'symbols': [], 'user_mentions...</td>\n",
       "      <td>0</td>\n",
       "    </tr>\n",
       "  </tbody>\n",
       "</table>\n",
       "</div>"
      ],
      "text/plain": [
       "              Date and Time              User id  \\\n",
       "0 2022-05-06 12:19:02+00:00  1522551509459812352   \n",
       "1 2022-05-06 12:18:59+00:00  1522551499758485505   \n",
       "2 2022-05-06 12:18:43+00:00  1522551429931712513   \n",
       "\n",
       "                                            UserName  \\\n",
       "0  User(_api=<tweepy.api.API object at 0x00000170...   \n",
       "1  User(_api=<tweepy.api.API object at 0x00000170...   \n",
       "2  User(_api=<tweepy.api.API object at 0x00000170...   \n",
       "\n",
       "                                               Tweet                  URL  \\\n",
       "0  RT @HutchElle: Has any #Canadian official, in ...      Twitter Web App   \n",
       "1  RT @AppliedArtsScot: Hear more from #AASChair ...  Twitter for Android   \n",
       "2  Finally, the Bears are hiring some data scienc...            TweetDeck   \n",
       "\n",
       "                                Hashtags and Mention  No. of Retweet  \n",
       "0  {'hashtags': [{'text': 'Canadian', 'indices': ...               5  \n",
       "1  {'hashtags': [{'text': 'AASChair', 'indices': ...               1  \n",
       "2  {'hashtags': [], 'symbols': [], 'user_mentions...               0  "
      ]
     },
     "execution_count": 14,
     "metadata": {},
     "output_type": "execute_result"
    }
   ],
   "source": [
    "data = pd.DataFrame({'Date and Time':DT, 'User id':ID,'UserName':U,'Tweet':T, 'URL':P,'Hashtags and Mention':E, 'No. of Retweet':R})\n",
    "data\n"
   ]
  },
  {
   "cell_type": "code",
   "execution_count": 15,
   "id": "9e4da323",
   "metadata": {},
   "outputs": [
    {
     "data": {
      "text/plain": [
       "0    RT @HutchElle: Has any #Canadian official, in ...\n",
       "1    RT @AppliedArtsScot: Hear more from #AASChair ...\n",
       "2    Finally, the Bears are hiring some data scienc...\n",
       "Name: Tweet, dtype: object"
      ]
     },
     "execution_count": 15,
     "metadata": {},
     "output_type": "execute_result"
    }
   ],
   "source": [
    "data[(\"Tweet\")]"
   ]
  },
  {
   "cell_type": "code",
   "execution_count": 16,
   "id": "b3d9b113",
   "metadata": {},
   "outputs": [
    {
     "data": {
      "text/html": [
       "<div>\n",
       "<style scoped>\n",
       "    .dataframe tbody tr th:only-of-type {\n",
       "        vertical-align: middle;\n",
       "    }\n",
       "\n",
       "    .dataframe tbody tr th {\n",
       "        vertical-align: top;\n",
       "    }\n",
       "\n",
       "    .dataframe thead th {\n",
       "        text-align: right;\n",
       "    }\n",
       "</style>\n",
       "<table border=\"1\" class=\"dataframe\">\n",
       "  <thead>\n",
       "    <tr style=\"text-align: right;\">\n",
       "      <th></th>\n",
       "      <th>Date and Time</th>\n",
       "      <th>User id</th>\n",
       "      <th>UserName</th>\n",
       "      <th>Tweet</th>\n",
       "      <th>URL</th>\n",
       "      <th>Hashtags and Mention</th>\n",
       "      <th>No. of Retweet</th>\n",
       "    </tr>\n",
       "  </thead>\n",
       "  <tbody>\n",
       "    <tr>\n",
       "      <th>0</th>\n",
       "      <td>2022-05-06 12:19:02+00:00</td>\n",
       "      <td>1522551509459812352</td>\n",
       "      <td>User(_api=&lt;tweepy.api.API object at 0x00000170...</td>\n",
       "      <td>RT @HutchElle: Has any #Canadian official, in ...</td>\n",
       "      <td>Twitter Web App</td>\n",
       "      <td>{'hashtags': [{'text': 'Canadian', 'indices': ...</td>\n",
       "      <td>5</td>\n",
       "    </tr>\n",
       "    <tr>\n",
       "      <th>1</th>\n",
       "      <td>2022-05-06 12:18:59+00:00</td>\n",
       "      <td>1522551499758485505</td>\n",
       "      <td>User(_api=&lt;tweepy.api.API object at 0x00000170...</td>\n",
       "      <td>RT @AppliedArtsScot: Hear more from #AASChair ...</td>\n",
       "      <td>Twitter for Android</td>\n",
       "      <td>{'hashtags': [{'text': 'AASChair', 'indices': ...</td>\n",
       "      <td>1</td>\n",
       "    </tr>\n",
       "    <tr>\n",
       "      <th>2</th>\n",
       "      <td>2022-05-06 12:18:43+00:00</td>\n",
       "      <td>1522551429931712513</td>\n",
       "      <td>User(_api=&lt;tweepy.api.API object at 0x00000170...</td>\n",
       "      <td>Finally, the Bears are hiring some data scienc...</td>\n",
       "      <td>TweetDeck</td>\n",
       "      <td>{'hashtags': [], 'symbols': [], 'user_mentions...</td>\n",
       "      <td>0</td>\n",
       "    </tr>\n",
       "  </tbody>\n",
       "</table>\n",
       "</div>"
      ],
      "text/plain": [
       "              Date and Time              User id  \\\n",
       "0 2022-05-06 12:19:02+00:00  1522551509459812352   \n",
       "1 2022-05-06 12:18:59+00:00  1522551499758485505   \n",
       "2 2022-05-06 12:18:43+00:00  1522551429931712513   \n",
       "\n",
       "                                            UserName  \\\n",
       "0  User(_api=<tweepy.api.API object at 0x00000170...   \n",
       "1  User(_api=<tweepy.api.API object at 0x00000170...   \n",
       "2  User(_api=<tweepy.api.API object at 0x00000170...   \n",
       "\n",
       "                                               Tweet                  URL  \\\n",
       "0  RT @HutchElle: Has any #Canadian official, in ...      Twitter Web App   \n",
       "1  RT @AppliedArtsScot: Hear more from #AASChair ...  Twitter for Android   \n",
       "2  Finally, the Bears are hiring some data scienc...            TweetDeck   \n",
       "\n",
       "                                Hashtags and Mention  No. of Retweet  \n",
       "0  {'hashtags': [{'text': 'Canadian', 'indices': ...               5  \n",
       "1  {'hashtags': [{'text': 'AASChair', 'indices': ...               1  \n",
       "2  {'hashtags': [], 'symbols': [], 'user_mentions...               0  "
      ]
     },
     "execution_count": 16,
     "metadata": {},
     "output_type": "execute_result"
    }
   ],
   "source": [
    "data.head()"
   ]
  },
  {
   "cell_type": "code",
   "execution_count": 17,
   "id": "d8d73a44",
   "metadata": {},
   "outputs": [
    {
     "name": "stdout",
     "output_type": "stream",
     "text": [
      "<class 'pandas.core.frame.DataFrame'>\n",
      "RangeIndex: 3 entries, 0 to 2\n",
      "Data columns (total 7 columns):\n",
      " #   Column                Non-Null Count  Dtype              \n",
      "---  ------                --------------  -----              \n",
      " 0   Date and Time         3 non-null      datetime64[ns, UTC]\n",
      " 1   User id               3 non-null      object             \n",
      " 2   UserName              3 non-null      object             \n",
      " 3   Tweet                 3 non-null      object             \n",
      " 4   URL                   3 non-null      object             \n",
      " 5   Hashtags and Mention  3 non-null      object             \n",
      " 6   No. of Retweet        3 non-null      int64              \n",
      "dtypes: datetime64[ns, UTC](1), int64(1), object(5)\n",
      "memory usage: 296.0+ bytes\n"
     ]
    }
   ],
   "source": [
    "data.info()"
   ]
  },
  {
   "cell_type": "code",
   "execution_count": 18,
   "id": "a3409115",
   "metadata": {},
   "outputs": [
    {
     "data": {
      "text/plain": [
       "Date and Time           datetime64[ns, UTC]\n",
       "User id                              object\n",
       "UserName                             object\n",
       "Tweet                                object\n",
       "URL                                  object\n",
       "Hashtags and Mention                 object\n",
       "No. of Retweet                        int64\n",
       "dtype: object"
      ]
     },
     "execution_count": 18,
     "metadata": {},
     "output_type": "execute_result"
    }
   ],
   "source": [
    "data.dtypes"
   ]
  },
  {
   "cell_type": "code",
   "execution_count": 19,
   "id": "df40ef56",
   "metadata": {},
   "outputs": [
    {
     "data": {
      "text/html": [
       "<div>\n",
       "<style scoped>\n",
       "    .dataframe tbody tr th:only-of-type {\n",
       "        vertical-align: middle;\n",
       "    }\n",
       "\n",
       "    .dataframe tbody tr th {\n",
       "        vertical-align: top;\n",
       "    }\n",
       "\n",
       "    .dataframe thead th {\n",
       "        text-align: right;\n",
       "    }\n",
       "</style>\n",
       "<table border=\"1\" class=\"dataframe\">\n",
       "  <thead>\n",
       "    <tr style=\"text-align: right;\">\n",
       "      <th></th>\n",
       "      <th>Date and Time</th>\n",
       "      <th>User id</th>\n",
       "      <th>UserName</th>\n",
       "      <th>Tweet</th>\n",
       "      <th>URL</th>\n",
       "      <th>Hashtags and Mention</th>\n",
       "      <th>No. of Retweet</th>\n",
       "    </tr>\n",
       "  </thead>\n",
       "  <tbody>\n",
       "    <tr>\n",
       "      <th>0</th>\n",
       "      <td>True</td>\n",
       "      <td>True</td>\n",
       "      <td>True</td>\n",
       "      <td>True</td>\n",
       "      <td>True</td>\n",
       "      <td>True</td>\n",
       "      <td>True</td>\n",
       "    </tr>\n",
       "    <tr>\n",
       "      <th>1</th>\n",
       "      <td>True</td>\n",
       "      <td>True</td>\n",
       "      <td>True</td>\n",
       "      <td>True</td>\n",
       "      <td>True</td>\n",
       "      <td>True</td>\n",
       "      <td>True</td>\n",
       "    </tr>\n",
       "    <tr>\n",
       "      <th>2</th>\n",
       "      <td>True</td>\n",
       "      <td>True</td>\n",
       "      <td>True</td>\n",
       "      <td>True</td>\n",
       "      <td>True</td>\n",
       "      <td>True</td>\n",
       "      <td>True</td>\n",
       "    </tr>\n",
       "  </tbody>\n",
       "</table>\n",
       "</div>"
      ],
      "text/plain": [
       "   Date and Time  User id  UserName  Tweet   URL  Hashtags and Mention  \\\n",
       "0           True     True      True   True  True                  True   \n",
       "1           True     True      True   True  True                  True   \n",
       "2           True     True      True   True  True                  True   \n",
       "\n",
       "   No. of Retweet  \n",
       "0            True  \n",
       "1            True  \n",
       "2            True  "
      ]
     },
     "execution_count": 19,
     "metadata": {},
     "output_type": "execute_result"
    }
   ],
   "source": [
    "data.notnull()"
   ]
  },
  {
   "cell_type": "code",
   "execution_count": 20,
   "id": "4459620a",
   "metadata": {},
   "outputs": [
    {
     "data": {
      "text/plain": [
       "<bound method DataFrame.nunique of               Date and Time              User id  \\\n",
       "0 2022-05-06 12:19:02+00:00  1522551509459812352   \n",
       "1 2022-05-06 12:18:59+00:00  1522551499758485505   \n",
       "2 2022-05-06 12:18:43+00:00  1522551429931712513   \n",
       "\n",
       "                                            UserName  \\\n",
       "0  User(_api=<tweepy.api.API object at 0x00000170...   \n",
       "1  User(_api=<tweepy.api.API object at 0x00000170...   \n",
       "2  User(_api=<tweepy.api.API object at 0x00000170...   \n",
       "\n",
       "                                               Tweet                  URL  \\\n",
       "0  RT @HutchElle: Has any #Canadian official, in ...      Twitter Web App   \n",
       "1  RT @AppliedArtsScot: Hear more from #AASChair ...  Twitter for Android   \n",
       "2  Finally, the Bears are hiring some data scienc...            TweetDeck   \n",
       "\n",
       "                                Hashtags and Mention  No. of Retweet  \n",
       "0  {'hashtags': [{'text': 'Canadian', 'indices': ...               5  \n",
       "1  {'hashtags': [{'text': 'AASChair', 'indices': ...               1  \n",
       "2  {'hashtags': [], 'symbols': [], 'user_mentions...               0  >"
      ]
     },
     "execution_count": 20,
     "metadata": {},
     "output_type": "execute_result"
    }
   ],
   "source": [
    "data.nunique"
   ]
  },
  {
   "cell_type": "code",
   "execution_count": 21,
   "id": "986f0c8b",
   "metadata": {},
   "outputs": [
    {
     "name": "stdout",
     "output_type": "stream",
     "text": [
      "0    RT @HutchElle: Has any #Canadian official, in ...\n",
      "1    RT @AppliedArtsScot: Hear more from #AASChair ...\n",
      "2    Finally, the Bears are hiring some data scienc...\n",
      "Name: Tweet, dtype: object\n",
      "0    RT @HutchElle: Has any #Canadian official, in ...\n",
      "1    RT @AppliedArtsScot: Hear more from #AASChair ...\n",
      "2    Finally, the Bears are hiring some data scienc...\n",
      "Name: Tweet, dtype: object\n",
      "0    RT @HutchElle: Has any #Canadian official, in ...\n",
      "1    RT @AppliedArtsScot: Hear more from #AASChair ...\n",
      "2    Finally, the Bears are hiring some data scienc...\n",
      "Name: Tweet, dtype: object\n",
      "0    RT @HutchElle: Has any #Canadian official, in ...\n",
      "1    RT @AppliedArtsScot: Hear more from #AASChair ...\n",
      "2    Finally, the Bears are hiring some data scienc...\n",
      "Name: Tweet, dtype: object\n",
      "0    RT @HutchElle: Has any #Canadian official, in ...\n",
      "1    RT @AppliedArtsScot: Hear more from #AASChair ...\n",
      "2    Finally, the Bears are hiring some data scienc...\n",
      "Name: Tweet, dtype: object\n",
      "0    RT @HutchElle: Has any #Canadian official, in ...\n",
      "1    RT @AppliedArtsScot: Hear more from #AASChair ...\n",
      "2    Finally, the Bears are hiring some data scienc...\n",
      "Name: Tweet, dtype: object\n",
      "0    RT @HutchElle: Has any #Canadian official, in ...\n",
      "1    RT @AppliedArtsScot: Hear more from #AASChair ...\n",
      "2    Finally, the Bears are hiring some data scienc...\n",
      "Name: Tweet, dtype: object\n"
     ]
    }
   ],
   "source": [
    "for tweet in data:\n",
    "      print(data.Tweet)"
   ]
  },
  {
   "cell_type": "markdown",
   "id": "ca034667",
   "metadata": {},
   "source": [
    "### Remove URL."
   ]
  },
  {
   "cell_type": "code",
   "execution_count": 22,
   "id": "f096dafc",
   "metadata": {},
   "outputs": [],
   "source": [
    "import re\n",
    "\n",
    "def remove_URL(text):\n",
    "    return re.sub(r\"http\\S+\", \"\",str(text))"
   ]
  },
  {
   "cell_type": "code",
   "execution_count": 23,
   "id": "5af6baa6",
   "metadata": {},
   "outputs": [
    {
     "data": {
      "text/plain": [
       "0    RT @HutchElle: Has any #Canadian official, in ...\n",
       "1    RT @AppliedArtsScot: Hear more from #AASChair ...\n",
       "2    Finally, the Bears are hiring some data scienc...\n",
       "Name: Tweet, dtype: object"
      ]
     },
     "execution_count": 23,
     "metadata": {},
     "output_type": "execute_result"
    }
   ],
   "source": [
    "data['Tweet']= data['Tweet'].apply(remove_URL)\n",
    "data['Tweet']"
   ]
  },
  {
   "cell_type": "markdown",
   "id": "590ddf7e",
   "metadata": {},
   "source": [
    "### Remove Mention."
   ]
  },
  {
   "cell_type": "code",
   "execution_count": 24,
   "id": "5f003a3c",
   "metadata": {},
   "outputs": [],
   "source": [
    "def remove_Mention(Tweet):\n",
    "    return re.sub(r\"@\\S+\", \"\",str(Tweet))"
   ]
  },
  {
   "cell_type": "code",
   "execution_count": 25,
   "id": "bfbef713",
   "metadata": {},
   "outputs": [
    {
     "data": {
      "text/plain": [
       "0    RT  Has any #Canadian official, in ANY capacit...\n",
       "1    RT  Hear more from #AASChair  about her  #weav...\n",
       "2    Finally, the Bears are hiring some data scienc...\n",
       "Name: Tweet, dtype: object"
      ]
     },
     "execution_count": 25,
     "metadata": {},
     "output_type": "execute_result"
    }
   ],
   "source": [
    "data['Tweet']= data['Tweet'].apply(remove_Mention)\n",
    "data['Tweet']"
   ]
  },
  {
   "cell_type": "markdown",
   "id": "3075ee7b",
   "metadata": {},
   "source": [
    "### Remove Reserved Word RT and FAV."
   ]
  },
  {
   "cell_type": "code",
   "execution_count": 26,
   "id": "fbee78ea",
   "metadata": {},
   "outputs": [],
   "source": [
    "def remove_Reserved_Word(Tweet):\n",
    "    return re.sub(r\"RT/FAV\", \"\",str(Tweet))"
   ]
  },
  {
   "cell_type": "code",
   "execution_count": 27,
   "id": "e1f01f87",
   "metadata": {},
   "outputs": [
    {
     "data": {
      "text/plain": [
       "0    RT  Has any #Canadian official, in ANY capacit...\n",
       "1    RT  Hear more from #AASChair  about her  #weav...\n",
       "2    Finally, the Bears are hiring some data scienc...\n",
       "Name: Tweet, dtype: object"
      ]
     },
     "execution_count": 27,
     "metadata": {},
     "output_type": "execute_result"
    }
   ],
   "source": [
    "data['Tweet']= data['Tweet'].apply(remove_Reserved_Word)\n",
    "data['Tweet']"
   ]
  },
  {
   "cell_type": "markdown",
   "id": "865f357a",
   "metadata": {},
   "source": [
    "### Remove punctuation and special character."
   ]
  },
  {
   "cell_type": "code",
   "execution_count": 28,
   "id": "50eb3bf2",
   "metadata": {},
   "outputs": [],
   "source": [
    "def remove_punctuation(Tweet):\n",
    "    new_words = []\n",
    "    for word in Tweet:\n",
    "        new_word = re.sub(r\"[^\\w\\s]\", \"\", str(Tweet))\n",
    "        if new_word != '':\n",
    "            new_words.append(new_word)\n",
    "    return new_words"
   ]
  },
  {
   "cell_type": "code",
   "execution_count": 29,
   "id": "623441a9",
   "metadata": {},
   "outputs": [
    {
     "data": {
      "text/plain": [
       "0    [RT  Has any Canadian official in ANY capacity...\n",
       "1    [RT  Hear more from AASChair  about her  weavi...\n",
       "2    [Finally the Bears are hiring some data scienc...\n",
       "Name: Tweet, dtype: object"
      ]
     },
     "execution_count": 29,
     "metadata": {},
     "output_type": "execute_result"
    }
   ],
   "source": [
    "data['Tweet']=data['Tweet'].apply(remove_punctuation)\n",
    "data['Tweet']"
   ]
  },
  {
   "cell_type": "code",
   "execution_count": 30,
   "id": "b69a29d4",
   "metadata": {},
   "outputs": [],
   "source": [
    "data.to_json('Stage2.json')"
   ]
  },
  {
   "cell_type": "code",
   "execution_count": 31,
   "id": "c8f5f44c",
   "metadata": {},
   "outputs": [],
   "source": [
    "data.to_csv(\"Final.csv\")"
   ]
  },
  {
   "cell_type": "markdown",
   "id": "0bbf2414",
   "metadata": {},
   "source": [
    "## Stage 3 - Perform following tasks on processed data \"\"Sentimental Analysis.\"\"\n",
    "#### Use the processed data of the Stage 2 and write program to find solutions to following sub problems."
   ]
  },
  {
   "cell_type": "code",
   "execution_count": 32,
   "id": "1cdc872b",
   "metadata": {},
   "outputs": [],
   "source": [
    "dt =pd.read_csv('Final.csv')"
   ]
  },
  {
   "cell_type": "code",
   "execution_count": 33,
   "id": "ab260a9a",
   "metadata": {},
   "outputs": [
    {
     "data": {
      "text/html": [
       "<div>\n",
       "<style scoped>\n",
       "    .dataframe tbody tr th:only-of-type {\n",
       "        vertical-align: middle;\n",
       "    }\n",
       "\n",
       "    .dataframe tbody tr th {\n",
       "        vertical-align: top;\n",
       "    }\n",
       "\n",
       "    .dataframe thead th {\n",
       "        text-align: right;\n",
       "    }\n",
       "</style>\n",
       "<table border=\"1\" class=\"dataframe\">\n",
       "  <thead>\n",
       "    <tr style=\"text-align: right;\">\n",
       "      <th></th>\n",
       "      <th>Unnamed: 0</th>\n",
       "      <th>Date and Time</th>\n",
       "      <th>User id</th>\n",
       "      <th>UserName</th>\n",
       "      <th>Tweet</th>\n",
       "      <th>URL</th>\n",
       "      <th>Hashtags and Mention</th>\n",
       "      <th>No. of Retweet</th>\n",
       "    </tr>\n",
       "  </thead>\n",
       "  <tbody>\n",
       "    <tr>\n",
       "      <th>0</th>\n",
       "      <td>0</td>\n",
       "      <td>2022-05-06 12:19:02+00:00</td>\n",
       "      <td>1522551509459812352</td>\n",
       "      <td>User(_api=&lt;tweepy.api.API object at 0x00000170...</td>\n",
       "      <td>['RT  Has any Canadian official in ANY capacit...</td>\n",
       "      <td>Twitter Web App</td>\n",
       "      <td>{'hashtags': [{'text': 'Canadian', 'indices': ...</td>\n",
       "      <td>5</td>\n",
       "    </tr>\n",
       "    <tr>\n",
       "      <th>1</th>\n",
       "      <td>1</td>\n",
       "      <td>2022-05-06 12:18:59+00:00</td>\n",
       "      <td>1522551499758485505</td>\n",
       "      <td>User(_api=&lt;tweepy.api.API object at 0x00000170...</td>\n",
       "      <td>['RT  Hear more from AASChair  about her  weav...</td>\n",
       "      <td>Twitter for Android</td>\n",
       "      <td>{'hashtags': [{'text': 'AASChair', 'indices': ...</td>\n",
       "      <td>1</td>\n",
       "    </tr>\n",
       "    <tr>\n",
       "      <th>2</th>\n",
       "      <td>2</td>\n",
       "      <td>2022-05-06 12:18:43+00:00</td>\n",
       "      <td>1522551429931712513</td>\n",
       "      <td>User(_api=&lt;tweepy.api.API object at 0x00000170...</td>\n",
       "      <td>['Finally the Bears are hiring some data scien...</td>\n",
       "      <td>TweetDeck</td>\n",
       "      <td>{'hashtags': [], 'symbols': [], 'user_mentions...</td>\n",
       "      <td>0</td>\n",
       "    </tr>\n",
       "  </tbody>\n",
       "</table>\n",
       "</div>"
      ],
      "text/plain": [
       "   Unnamed: 0              Date and Time              User id  \\\n",
       "0           0  2022-05-06 12:19:02+00:00  1522551509459812352   \n",
       "1           1  2022-05-06 12:18:59+00:00  1522551499758485505   \n",
       "2           2  2022-05-06 12:18:43+00:00  1522551429931712513   \n",
       "\n",
       "                                            UserName  \\\n",
       "0  User(_api=<tweepy.api.API object at 0x00000170...   \n",
       "1  User(_api=<tweepy.api.API object at 0x00000170...   \n",
       "2  User(_api=<tweepy.api.API object at 0x00000170...   \n",
       "\n",
       "                                               Tweet                  URL  \\\n",
       "0  ['RT  Has any Canadian official in ANY capacit...      Twitter Web App   \n",
       "1  ['RT  Hear more from AASChair  about her  weav...  Twitter for Android   \n",
       "2  ['Finally the Bears are hiring some data scien...            TweetDeck   \n",
       "\n",
       "                                Hashtags and Mention  No. of Retweet  \n",
       "0  {'hashtags': [{'text': 'Canadian', 'indices': ...               5  \n",
       "1  {'hashtags': [{'text': 'AASChair', 'indices': ...               1  \n",
       "2  {'hashtags': [], 'symbols': [], 'user_mentions...               0  "
      ]
     },
     "execution_count": 33,
     "metadata": {},
     "output_type": "execute_result"
    }
   ],
   "source": [
    "dt"
   ]
  },
  {
   "cell_type": "markdown",
   "id": "4c1ba2d7",
   "metadata": {},
   "source": [
    "## Problem A - Generate word cloud\n",
    "### Find the count of each word in the entire data set of tweet texts and save the result in csv format in descending order of count."
   ]
  },
  {
   "cell_type": "markdown",
   "id": "48ec2be9",
   "metadata": {},
   "source": [
    "### Creating word cloud on data which is filtered from Twitter by our Specific Key. "
   ]
  },
  {
   "cell_type": "code",
   "execution_count": 34,
   "id": "ba78337a",
   "metadata": {},
   "outputs": [
    {
     "data": {
      "image/png": "[encoded data removed]",
      "text/plain": [
       "<Figure size 1152x1152 with 1 Axes>"
      ]
     },
     "metadata": {
      "needs_background": "light"
     },
     "output_type": "display_data"
    }
   ],
   "source": [
    "import matplotlib.pyplot as plt \n",
    "from wordcloud import WordCloud\n",
    "wordcloud = WordCloud( width = 800, height = 500, max_font_size=80, background_color= 'Black', max_words= 5000).generate(str(dt.Tweet))\n",
    "plt.figure(figsize = (16,16))\n",
    "plt.imshow(wordcloud)\n",
    "plt.axis(\"off\")\n",
    "plt.show()"
   ]
  },
  {
   "cell_type": "markdown",
   "id": "21c3f02f",
   "metadata": {},
   "source": [
    "## Problem B - Create Inverted Index\n",
    "### Write a program that produces an inverted index that gives, for every hashtag, the list of tweet ids it appears in and save the data in the log file.You will have to create a new JSON object to store only relevant information in the log file. Also enable index search so that a user can search, for a hashtag, the list of tweet ids."
   ]
  },
  {
   "cell_type": "code",
   "execution_count": 35,
   "id": "d60437f8",
   "metadata": {},
   "outputs": [],
   "source": [
    "dt.to_json(\"Stage3.json\")"
   ]
  },
  {
   "cell_type": "code",
   "execution_count": 36,
   "id": "d46a330f",
   "metadata": {},
   "outputs": [
    {
     "data": {
      "text/html": [
       "<div>\n",
       "<style scoped>\n",
       "    .dataframe tbody tr th:only-of-type {\n",
       "        vertical-align: middle;\n",
       "    }\n",
       "\n",
       "    .dataframe tbody tr th {\n",
       "        vertical-align: top;\n",
       "    }\n",
       "\n",
       "    .dataframe thead th {\n",
       "        text-align: right;\n",
       "    }\n",
       "</style>\n",
       "<table border=\"1\" class=\"dataframe\">\n",
       "  <thead>\n",
       "    <tr style=\"text-align: right;\">\n",
       "      <th></th>\n",
       "      <th>Unnamed: 0</th>\n",
       "      <th>Date and Time</th>\n",
       "      <th>User id</th>\n",
       "      <th>UserName</th>\n",
       "      <th>Tweet</th>\n",
       "      <th>URL</th>\n",
       "      <th>Hashtags and Mention</th>\n",
       "      <th>No. of Retweet</th>\n",
       "    </tr>\n",
       "  </thead>\n",
       "  <tbody>\n",
       "    <tr>\n",
       "      <th>0</th>\n",
       "      <td>0</td>\n",
       "      <td>2022-05-06 12:19:02+00:00</td>\n",
       "      <td>1522551509459812352</td>\n",
       "      <td>User(_api=&lt;tweepy.api.API object at 0x00000170...</td>\n",
       "      <td>['RT  Has any Canadian official in ANY capacit...</td>\n",
       "      <td>Twitter Web App</td>\n",
       "      <td>{'hashtags': [{'text': 'Canadian', 'indices': ...</td>\n",
       "      <td>5</td>\n",
       "    </tr>\n",
       "    <tr>\n",
       "      <th>1</th>\n",
       "      <td>1</td>\n",
       "      <td>2022-05-06 12:18:59+00:00</td>\n",
       "      <td>1522551499758485505</td>\n",
       "      <td>User(_api=&lt;tweepy.api.API object at 0x00000170...</td>\n",
       "      <td>['RT  Hear more from AASChair  about her  weav...</td>\n",
       "      <td>Twitter for Android</td>\n",
       "      <td>{'hashtags': [{'text': 'AASChair', 'indices': ...</td>\n",
       "      <td>1</td>\n",
       "    </tr>\n",
       "    <tr>\n",
       "      <th>2</th>\n",
       "      <td>2</td>\n",
       "      <td>2022-05-06 12:18:43+00:00</td>\n",
       "      <td>1522551429931712513</td>\n",
       "      <td>User(_api=&lt;tweepy.api.API object at 0x00000170...</td>\n",
       "      <td>['Finally the Bears are hiring some data scien...</td>\n",
       "      <td>TweetDeck</td>\n",
       "      <td>{'hashtags': [], 'symbols': [], 'user_mentions...</td>\n",
       "      <td>0</td>\n",
       "    </tr>\n",
       "  </tbody>\n",
       "</table>\n",
       "</div>"
      ],
      "text/plain": [
       "   Unnamed: 0              Date and Time              User id  \\\n",
       "0           0  2022-05-06 12:19:02+00:00  1522551509459812352   \n",
       "1           1  2022-05-06 12:18:59+00:00  1522551499758485505   \n",
       "2           2  2022-05-06 12:18:43+00:00  1522551429931712513   \n",
       "\n",
       "                                            UserName  \\\n",
       "0  User(_api=<tweepy.api.API object at 0x00000170...   \n",
       "1  User(_api=<tweepy.api.API object at 0x00000170...   \n",
       "2  User(_api=<tweepy.api.API object at 0x00000170...   \n",
       "\n",
       "                                               Tweet                  URL  \\\n",
       "0  ['RT  Has any Canadian official in ANY capacit...      Twitter Web App   \n",
       "1  ['RT  Hear more from AASChair  about her  weav...  Twitter for Android   \n",
       "2  ['Finally the Bears are hiring some data scien...            TweetDeck   \n",
       "\n",
       "                                Hashtags and Mention  No. of Retweet  \n",
       "0  {'hashtags': [{'text': 'Canadian', 'indices': ...               5  \n",
       "1  {'hashtags': [{'text': 'AASChair', 'indices': ...               1  \n",
       "2  {'hashtags': [], 'symbols': [], 'user_mentions...               0  "
      ]
     },
     "execution_count": 36,
     "metadata": {},
     "output_type": "execute_result"
    }
   ],
   "source": [
    "d = pd.read_json(\"Stage3.json\")\n",
    "d"
   ]
  },
  {
   "cell_type": "code",
   "execution_count": 37,
   "id": "0b978eaa",
   "metadata": {},
   "outputs": [
    {
     "data": {
      "text/plain": [
       "<bound method DataFrame.nunique of    Unnamed: 0              Date and Time              User id  \\\n",
       "0           0  2022-05-06 12:19:02+00:00  1522551509459812352   \n",
       "1           1  2022-05-06 12:18:59+00:00  1522551499758485505   \n",
       "2           2  2022-05-06 12:18:43+00:00  1522551429931712513   \n",
       "\n",
       "                                            UserName  \\\n",
       "0  User(_api=<tweepy.api.API object at 0x00000170...   \n",
       "1  User(_api=<tweepy.api.API object at 0x00000170...   \n",
       "2  User(_api=<tweepy.api.API object at 0x00000170...   \n",
       "\n",
       "                                               Tweet                  URL  \\\n",
       "0  ['RT  Has any Canadian official in ANY capacit...      Twitter Web App   \n",
       "1  ['RT  Hear more from AASChair  about her  weav...  Twitter for Android   \n",
       "2  ['Finally the Bears are hiring some data scien...            TweetDeck   \n",
       "\n",
       "                                Hashtags and Mention  No. of Retweet  \n",
       "0  {'hashtags': [{'text': 'Canadian', 'indices': ...               5  \n",
       "1  {'hashtags': [{'text': 'AASChair', 'indices': ...               1  \n",
       "2  {'hashtags': [], 'symbols': [], 'user_mentions...               0  >"
      ]
     },
     "execution_count": 37,
     "metadata": {},
     "output_type": "execute_result"
    }
   ],
   "source": [
    "d.nunique"
   ]
  },
  {
   "cell_type": "markdown",
   "id": "5ae3dade",
   "metadata": {},
   "source": [
    "## Problem C - Perform Sentiment Analysis and publish distribution by place\n",
    "### Write a program that tells you whether a tweet expresses a positive sentiment, negative sentiment or its neutral and publish the distribution of result by place in csv file.\n"
   ]
  },
  {
   "cell_type": "code",
   "execution_count": 38,
   "id": "848ddbf8",
   "metadata": {},
   "outputs": [
    {
     "data": {
      "text/html": [
       "<div>\n",
       "<style scoped>\n",
       "    .dataframe tbody tr th:only-of-type {\n",
       "        vertical-align: middle;\n",
       "    }\n",
       "\n",
       "    .dataframe tbody tr th {\n",
       "        vertical-align: top;\n",
       "    }\n",
       "\n",
       "    .dataframe thead th {\n",
       "        text-align: right;\n",
       "    }\n",
       "</style>\n",
       "<table border=\"1\" class=\"dataframe\">\n",
       "  <thead>\n",
       "    <tr style=\"text-align: right;\">\n",
       "      <th></th>\n",
       "      <th>Unnamed: 0</th>\n",
       "      <th>Date and Time</th>\n",
       "      <th>User id</th>\n",
       "      <th>UserName</th>\n",
       "      <th>Tweet</th>\n",
       "      <th>URL</th>\n",
       "      <th>Hashtags and Mention</th>\n",
       "      <th>No. of Retweet</th>\n",
       "      <th>sentiment</th>\n",
       "      <th>polarity</th>\n",
       "    </tr>\n",
       "  </thead>\n",
       "  <tbody>\n",
       "    <tr>\n",
       "      <th>0</th>\n",
       "      <td>0</td>\n",
       "      <td>2022-05-06 12:19:02+00:00</td>\n",
       "      <td>1522551509459812352</td>\n",
       "      <td>User(_api=&lt;tweepy.api.API object at 0x00000170...</td>\n",
       "      <td>['RT  Has any Canadian official in ANY capacit...</td>\n",
       "      <td>Twitter Web App</td>\n",
       "      <td>{'hashtags': [{'text': 'Canadian', 'indices': ...</td>\n",
       "      <td>5</td>\n",
       "      <td>0.0</td>\n",
       "      <td>0.0</td>\n",
       "    </tr>\n",
       "    <tr>\n",
       "      <th>1</th>\n",
       "      <td>1</td>\n",
       "      <td>2022-05-06 12:18:59+00:00</td>\n",
       "      <td>1522551499758485505</td>\n",
       "      <td>User(_api=&lt;tweepy.api.API object at 0x00000170...</td>\n",
       "      <td>['RT  Hear more from AASChair  about her  weav...</td>\n",
       "      <td>Twitter for Android</td>\n",
       "      <td>{'hashtags': [{'text': 'AASChair', 'indices': ...</td>\n",
       "      <td>1</td>\n",
       "      <td>0.5</td>\n",
       "      <td>0.5</td>\n",
       "    </tr>\n",
       "    <tr>\n",
       "      <th>2</th>\n",
       "      <td>2</td>\n",
       "      <td>2022-05-06 12:18:43+00:00</td>\n",
       "      <td>1522551429931712513</td>\n",
       "      <td>User(_api=&lt;tweepy.api.API object at 0x00000170...</td>\n",
       "      <td>['Finally the Bears are hiring some data scien...</td>\n",
       "      <td>TweetDeck</td>\n",
       "      <td>{'hashtags': [], 'symbols': [], 'user_mentions...</td>\n",
       "      <td>0</td>\n",
       "      <td>1.0</td>\n",
       "      <td>0.0</td>\n",
       "    </tr>\n",
       "  </tbody>\n",
       "</table>\n",
       "</div>"
      ],
      "text/plain": [
       "   Unnamed: 0              Date and Time              User id  \\\n",
       "0           0  2022-05-06 12:19:02+00:00  1522551509459812352   \n",
       "1           1  2022-05-06 12:18:59+00:00  1522551499758485505   \n",
       "2           2  2022-05-06 12:18:43+00:00  1522551429931712513   \n",
       "\n",
       "                                            UserName  \\\n",
       "0  User(_api=<tweepy.api.API object at 0x00000170...   \n",
       "1  User(_api=<tweepy.api.API object at 0x00000170...   \n",
       "2  User(_api=<tweepy.api.API object at 0x00000170...   \n",
       "\n",
       "                                               Tweet                  URL  \\\n",
       "0  ['RT  Has any Canadian official in ANY capacit...      Twitter Web App   \n",
       "1  ['RT  Hear more from AASChair  about her  weav...  Twitter for Android   \n",
       "2  ['Finally the Bears are hiring some data scien...            TweetDeck   \n",
       "\n",
       "                                Hashtags and Mention  No. of Retweet  \\\n",
       "0  {'hashtags': [{'text': 'Canadian', 'indices': ...               5   \n",
       "1  {'hashtags': [{'text': 'AASChair', 'indices': ...               1   \n",
       "2  {'hashtags': [], 'symbols': [], 'user_mentions...               0   \n",
       "\n",
       "   sentiment  polarity  \n",
       "0        0.0       0.0  \n",
       "1        0.5       0.5  \n",
       "2        1.0       0.0  "
      ]
     },
     "execution_count": 38,
     "metadata": {},
     "output_type": "execute_result"
    }
   ],
   "source": [
    "from textblob import TextBlob\n",
    "def sentiment(Tweet):\n",
    "    return TextBlob(Tweet).sentiment.subjectivity\n",
    "\n",
    "def polarity(Tweet):\n",
    "    return TextBlob(Tweet).sentiment.polarity\n",
    "\n",
    "dt['sentiment']= dt['Tweet'].apply(sentiment)\n",
    "dt['polarity']= dt['Tweet'].apply(polarity)\n",
    "\n",
    "dt"
   ]
  },
  {
   "cell_type": "code",
   "execution_count": 39,
   "id": "2afa82e2",
   "metadata": {},
   "outputs": [
    {
     "data": {
      "text/html": [
       "<div>\n",
       "<style scoped>\n",
       "    .dataframe tbody tr th:only-of-type {\n",
       "        vertical-align: middle;\n",
       "    }\n",
       "\n",
       "    .dataframe tbody tr th {\n",
       "        vertical-align: top;\n",
       "    }\n",
       "\n",
       "    .dataframe thead th {\n",
       "        text-align: right;\n",
       "    }\n",
       "</style>\n",
       "<table border=\"1\" class=\"dataframe\">\n",
       "  <thead>\n",
       "    <tr style=\"text-align: right;\">\n",
       "      <th></th>\n",
       "      <th>Unnamed: 0</th>\n",
       "      <th>Date and Time</th>\n",
       "      <th>User id</th>\n",
       "      <th>UserName</th>\n",
       "      <th>Tweet</th>\n",
       "      <th>URL</th>\n",
       "      <th>Hashtags and Mention</th>\n",
       "      <th>No. of Retweet</th>\n",
       "      <th>sentiment</th>\n",
       "      <th>polarity</th>\n",
       "      <th>sentiment_analysis</th>\n",
       "    </tr>\n",
       "  </thead>\n",
       "  <tbody>\n",
       "    <tr>\n",
       "      <th>0</th>\n",
       "      <td>0</td>\n",
       "      <td>2022-05-06 12:19:02+00:00</td>\n",
       "      <td>1522551509459812352</td>\n",
       "      <td>User(_api=&lt;tweepy.api.API object at 0x00000170...</td>\n",
       "      <td>['RT  Has any Canadian official in ANY capacit...</td>\n",
       "      <td>Twitter Web App</td>\n",
       "      <td>{'hashtags': [{'text': 'Canadian', 'indices': ...</td>\n",
       "      <td>5</td>\n",
       "      <td>0.0</td>\n",
       "      <td>0.0</td>\n",
       "      <td>ne</td>\n",
       "    </tr>\n",
       "    <tr>\n",
       "      <th>1</th>\n",
       "      <td>1</td>\n",
       "      <td>2022-05-06 12:18:59+00:00</td>\n",
       "      <td>1522551499758485505</td>\n",
       "      <td>User(_api=&lt;tweepy.api.API object at 0x00000170...</td>\n",
       "      <td>['RT  Hear more from AASChair  about her  weav...</td>\n",
       "      <td>Twitter for Android</td>\n",
       "      <td>{'hashtags': [{'text': 'AASChair', 'indices': ...</td>\n",
       "      <td>1</td>\n",
       "      <td>0.5</td>\n",
       "      <td>0.5</td>\n",
       "      <td>pos</td>\n",
       "    </tr>\n",
       "    <tr>\n",
       "      <th>2</th>\n",
       "      <td>2</td>\n",
       "      <td>2022-05-06 12:18:43+00:00</td>\n",
       "      <td>1522551429931712513</td>\n",
       "      <td>User(_api=&lt;tweepy.api.API object at 0x00000170...</td>\n",
       "      <td>['Finally the Bears are hiring some data scien...</td>\n",
       "      <td>TweetDeck</td>\n",
       "      <td>{'hashtags': [], 'symbols': [], 'user_mentions...</td>\n",
       "      <td>0</td>\n",
       "      <td>1.0</td>\n",
       "      <td>0.0</td>\n",
       "      <td>ne</td>\n",
       "    </tr>\n",
       "  </tbody>\n",
       "</table>\n",
       "</div>"
      ],
      "text/plain": [
       "   Unnamed: 0              Date and Time              User id  \\\n",
       "0           0  2022-05-06 12:19:02+00:00  1522551509459812352   \n",
       "1           1  2022-05-06 12:18:59+00:00  1522551499758485505   \n",
       "2           2  2022-05-06 12:18:43+00:00  1522551429931712513   \n",
       "\n",
       "                                            UserName  \\\n",
       "0  User(_api=<tweepy.api.API object at 0x00000170...   \n",
       "1  User(_api=<tweepy.api.API object at 0x00000170...   \n",
       "2  User(_api=<tweepy.api.API object at 0x00000170...   \n",
       "\n",
       "                                               Tweet                  URL  \\\n",
       "0  ['RT  Has any Canadian official in ANY capacit...      Twitter Web App   \n",
       "1  ['RT  Hear more from AASChair  about her  weav...  Twitter for Android   \n",
       "2  ['Finally the Bears are hiring some data scien...            TweetDeck   \n",
       "\n",
       "                                Hashtags and Mention  No. of Retweet  \\\n",
       "0  {'hashtags': [{'text': 'Canadian', 'indices': ...               5   \n",
       "1  {'hashtags': [{'text': 'AASChair', 'indices': ...               1   \n",
       "2  {'hashtags': [], 'symbols': [], 'user_mentions...               0   \n",
       "\n",
       "   sentiment  polarity sentiment_analysis  \n",
       "0        0.0       0.0                 ne  \n",
       "1        0.5       0.5                pos  \n",
       "2        1.0       0.0                 ne  "
      ]
     },
     "execution_count": 39,
     "metadata": {},
     "output_type": "execute_result"
    }
   ],
   "source": [
    "def sentiment_analysis(x):\n",
    "    if x > 0:\n",
    "        return 'pos'\n",
    "    elif x < 0:\n",
    "        return 'neg'\n",
    "    else:\n",
    "        return 'ne'\n",
    "    \n",
    "dt['sentiment_analysis'] = dt['polarity'].apply(sentiment_analysis)\n",
    "dt"
   ]
  },
  {
   "cell_type": "markdown",
   "id": "c4103554",
   "metadata": {},
   "source": [
    "## Difference in time taken by programs to run by use of Parallel Processing."
   ]
  },
  {
   "cell_type": "code",
   "execution_count": 40,
   "id": "dfe0ada9",
   "metadata": {},
   "outputs": [
    {
     "name": "stdout",
     "output_type": "stream",
     "text": [
      "Duration: 0:00:16.832612\n"
     ]
    }
   ],
   "source": [
    "end_time=datetime.now()\n",
    "print('Duration: {}'.format(end_time-start_time))"
   ]
  },
  {
   "cell_type": "markdown",
   "id": "07fd4ff4",
   "metadata": {},
   "source": [
    "### Thankyou...."
   ]
  },
  {
   "cell_type": "code",
   "execution_count": null,
   "id": "acd6ea1e",
   "metadata": {},
   "outputs": [],
   "source": []
  }
 ],
 "metadata": {
  "kernelspec": {
   "display_name": "Python 3 (ipykernel)",
   "language": "python",
   "name": "python3"
  },
  "language_info": {
   "codemirror_mode": {
    "name": "ipython",
    "version": 3
   },
   "file_extension": ".py",
   "mimetype": "text/x-python",
   "name": "python",
   "nbconvert_exporter": "python",
   "pygments_lexer": "ipython3",
   "version": "3.9.7"
  }
 },
 "nbformat": 4,
 "nbformat_minor": 5
}
