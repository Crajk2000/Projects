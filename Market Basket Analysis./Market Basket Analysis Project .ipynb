{
 "cells": [
  {
   "cell_type": "markdown",
   "id": "35df5feb",
   "metadata": {},
   "source": [
    "#  'MARKET BASKET ANALYSIS PROJECT'.\n",
    "\n",
    "## <font color = red > \"Rajkumar Choudhary\"\n",
    "## <font color = red > \"Rashmi Pardesi\"\n",
    "## <font color = red > \"Dikshant Pandey\""
   ]
  },
  {
   "cell_type": "markdown",
   "id": "breeding-terrain",
   "metadata": {
    "papermill": {
     "duration": 0.01934,
     "end_time": "2021-05-24T12:21:20.320501",
     "exception": false,
     "start_time": "2021-05-24T12:21:20.301161",
     "status": "completed"
    },
    "tags": []
   },
   "source": [
    "Apriori is an algorithm for frequent item set mining and association rule learning over relational databases. It proceeds by identifying the frequent individual items in the database and extending them to larger and larger item sets as long as those item sets appear sufficiently often in the database. The frequent item sets determined by Apriori can be used to determine association rules which highlight general trends in the database: this has applications in domains such as market basket analysis."
   ]
  },
  {
   "cell_type": "markdown",
   "id": "ec230633",
   "metadata": {},
   "source": [
    "# Install apyori"
   ]
  },
  {
   "cell_type": "code",
   "execution_count": 1,
   "id": "liberal-terrace",
   "metadata": {
    "execution": {
     "iopub.execute_input": "2021-05-24T12:21:20.380942Z",
     "iopub.status.busy": "2021-05-24T12:21:20.369131Z",
     "iopub.status.idle": "2021-05-24T12:21:31.198563Z",
     "shell.execute_reply": "2021-05-24T12:21:31.197808Z",
     "shell.execute_reply.started": "2021-05-24T12:16:24.051418Z"
    },
    "papermill": {
     "duration": 10.85933,
     "end_time": "2021-05-24T12:21:31.198731",
     "exception": false,
     "start_time": "2021-05-24T12:21:20.339401",
     "status": "completed"
    },
    "scrolled": true,
    "tags": []
   },
   "outputs": [
    {
     "name": "stdout",
     "output_type": "stream",
     "text": [
      "Requirement already satisfied: apyori in c:\\users\\raj kumar choudhary\\anaconda3\\lib\\site-packages (1.1.2)\n"
     ]
    }
   ],
   "source": [
    "#you might need to install apyori\n",
    "!pip install apyori"
   ]
  },
  {
   "cell_type": "markdown",
   "id": "ac278728",
   "metadata": {},
   "source": [
    "# Import Important Libraries."
   ]
  },
  {
   "cell_type": "code",
   "execution_count": 2,
   "id": "fatty-committee",
   "metadata": {
    "execution": {
     "iopub.execute_input": "2021-05-24T12:21:31.247755Z",
     "iopub.status.busy": "2021-05-24T12:21:31.246930Z",
     "iopub.status.idle": "2021-05-24T12:21:32.207923Z",
     "shell.execute_reply": "2021-05-24T12:21:32.206870Z",
     "shell.execute_reply.started": "2021-05-24T12:16:30.758214Z"
    },
    "papermill": {
     "duration": 0.988223,
     "end_time": "2021-05-24T12:21:32.208081",
     "exception": false,
     "start_time": "2021-05-24T12:21:31.219858",
     "status": "completed"
    },
    "tags": []
   },
   "outputs": [],
   "source": [
    "#importing libraries\n",
    "import pandas as pd\n",
    "import numpy as np\n",
    "import matplotlib.pyplot as plt\n",
    "import seaborn as sns"
   ]
  },
  {
   "cell_type": "markdown",
   "id": "80a4382d",
   "metadata": {},
   "source": [
    "# Importing Dataset."
   ]
  },
  {
   "cell_type": "code",
   "execution_count": 3,
   "id": "accepting-error",
   "metadata": {
    "execution": {
     "iopub.execute_input": "2021-05-24T12:21:32.253211Z",
     "iopub.status.busy": "2021-05-24T12:21:32.252277Z",
     "iopub.status.idle": "2021-05-24T12:21:32.348996Z",
     "shell.execute_reply": "2021-05-24T12:21:32.348313Z",
     "shell.execute_reply.started": "2021-05-24T12:16:33.402603Z"
    },
    "papermill": {
     "duration": 0.120321,
     "end_time": "2021-05-24T12:21:32.349138",
     "exception": false,
     "start_time": "2021-05-24T12:21:32.228817",
     "status": "completed"
    },
    "tags": []
   },
   "outputs": [],
   "source": [
    "#importing dataset\n",
    "ds = pd.read_csv('D:/CSV Files/Groceries_dataset.csv')"
   ]
  },
  {
   "cell_type": "code",
   "execution_count": 4,
   "id": "94dc52e8",
   "metadata": {},
   "outputs": [
    {
     "data": {
      "text/html": [
       "<div>\n",
       "<style scoped>\n",
       "    .dataframe tbody tr th:only-of-type {\n",
       "        vertical-align: middle;\n",
       "    }\n",
       "\n",
       "    .dataframe tbody tr th {\n",
       "        vertical-align: top;\n",
       "    }\n",
       "\n",
       "    .dataframe thead th {\n",
       "        text-align: right;\n",
       "    }\n",
       "</style>\n",
       "<table border=\"1\" class=\"dataframe\">\n",
       "  <thead>\n",
       "    <tr style=\"text-align: right;\">\n",
       "      <th></th>\n",
       "      <th>Member_number</th>\n",
       "      <th>Date</th>\n",
       "      <th>Description</th>\n",
       "    </tr>\n",
       "  </thead>\n",
       "  <tbody>\n",
       "    <tr>\n",
       "      <th>0</th>\n",
       "      <td>1808</td>\n",
       "      <td>21-07-2015</td>\n",
       "      <td>tropical fruit</td>\n",
       "    </tr>\n",
       "    <tr>\n",
       "      <th>1</th>\n",
       "      <td>2552</td>\n",
       "      <td>05-01-2015</td>\n",
       "      <td>whole milk</td>\n",
       "    </tr>\n",
       "    <tr>\n",
       "      <th>2</th>\n",
       "      <td>2300</td>\n",
       "      <td>19-09-2015</td>\n",
       "      <td>pip fruit</td>\n",
       "    </tr>\n",
       "    <tr>\n",
       "      <th>3</th>\n",
       "      <td>1187</td>\n",
       "      <td>12-12-2015</td>\n",
       "      <td>other vegetables</td>\n",
       "    </tr>\n",
       "    <tr>\n",
       "      <th>4</th>\n",
       "      <td>3037</td>\n",
       "      <td>01-02-2015</td>\n",
       "      <td>whole milk</td>\n",
       "    </tr>\n",
       "    <tr>\n",
       "      <th>...</th>\n",
       "      <td>...</td>\n",
       "      <td>...</td>\n",
       "      <td>...</td>\n",
       "    </tr>\n",
       "    <tr>\n",
       "      <th>38760</th>\n",
       "      <td>4471</td>\n",
       "      <td>08-10-2014</td>\n",
       "      <td>sliced cheese</td>\n",
       "    </tr>\n",
       "    <tr>\n",
       "      <th>38761</th>\n",
       "      <td>2022</td>\n",
       "      <td>23-02-2014</td>\n",
       "      <td>candy</td>\n",
       "    </tr>\n",
       "    <tr>\n",
       "      <th>38762</th>\n",
       "      <td>1097</td>\n",
       "      <td>16-04-2014</td>\n",
       "      <td>cake bar</td>\n",
       "    </tr>\n",
       "    <tr>\n",
       "      <th>38763</th>\n",
       "      <td>1510</td>\n",
       "      <td>03-12-2014</td>\n",
       "      <td>fruit/vegetable juice</td>\n",
       "    </tr>\n",
       "    <tr>\n",
       "      <th>38764</th>\n",
       "      <td>1521</td>\n",
       "      <td>26-12-2014</td>\n",
       "      <td>cat food</td>\n",
       "    </tr>\n",
       "  </tbody>\n",
       "</table>\n",
       "<p>38765 rows × 3 columns</p>\n",
       "</div>"
      ],
      "text/plain": [
       "       Member_number        Date            Description\n",
       "0               1808  21-07-2015         tropical fruit\n",
       "1               2552  05-01-2015             whole milk\n",
       "2               2300  19-09-2015              pip fruit\n",
       "3               1187  12-12-2015       other vegetables\n",
       "4               3037  01-02-2015             whole milk\n",
       "...              ...         ...                    ...\n",
       "38760           4471  08-10-2014          sliced cheese\n",
       "38761           2022  23-02-2014                  candy\n",
       "38762           1097  16-04-2014               cake bar\n",
       "38763           1510  03-12-2014  fruit/vegetable juice\n",
       "38764           1521  26-12-2014               cat food\n",
       "\n",
       "[38765 rows x 3 columns]"
      ]
     },
     "execution_count": 4,
     "metadata": {},
     "output_type": "execute_result"
    }
   ],
   "source": [
    "ds"
   ]
  },
  {
   "cell_type": "markdown",
   "id": "b558822f",
   "metadata": {},
   "source": [
    "# shape of the data set."
   ]
  },
  {
   "cell_type": "code",
   "execution_count": 5,
   "id": "broke-position",
   "metadata": {
    "execution": {
     "iopub.execute_input": "2021-05-24T12:21:32.397263Z",
     "iopub.status.busy": "2021-05-24T12:21:32.396288Z",
     "iopub.status.idle": "2021-05-24T12:21:32.401144Z",
     "shell.execute_reply": "2021-05-24T12:21:32.400463Z",
     "shell.execute_reply.started": "2021-05-24T12:16:35.416612Z"
    },
    "papermill": {
     "duration": 0.031191,
     "end_time": "2021-05-24T12:21:32.401308",
     "exception": false,
     "start_time": "2021-05-24T12:21:32.370117",
     "status": "completed"
    },
    "tags": []
   },
   "outputs": [
    {
     "data": {
      "text/plain": [
       "(38765, 3)"
      ]
     },
     "execution_count": 5,
     "metadata": {},
     "output_type": "execute_result"
    }
   ],
   "source": [
    "#dataset has 38765 rows and 3 columns\n",
    "ds.shape"
   ]
  },
  {
   "cell_type": "code",
   "execution_count": 6,
   "id": "breeding-sheffield",
   "metadata": {
    "execution": {
     "iopub.execute_input": "2021-05-24T12:21:32.453501Z",
     "iopub.status.busy": "2021-05-24T12:21:32.452205Z",
     "iopub.status.idle": "2021-05-24T12:21:32.457483Z",
     "shell.execute_reply": "2021-05-24T12:21:32.457986Z",
     "shell.execute_reply.started": "2021-05-24T12:16:38.529270Z"
    },
    "papermill": {
     "duration": 0.035104,
     "end_time": "2021-05-24T12:21:32.458206",
     "exception": false,
     "start_time": "2021-05-24T12:21:32.423102",
     "status": "completed"
    },
    "tags": []
   },
   "outputs": [],
   "source": [
    "#setting index as Date\n",
    "ds.set_index('Date',inplace = True)"
   ]
  },
  {
   "cell_type": "code",
   "execution_count": 7,
   "id": "confident-driver",
   "metadata": {
    "execution": {
     "iopub.execute_input": "2021-05-24T12:21:32.506855Z",
     "iopub.status.busy": "2021-05-24T12:21:32.505857Z",
     "iopub.status.idle": "2021-05-24T12:21:32.528699Z",
     "shell.execute_reply": "2021-05-24T12:21:32.528041Z",
     "shell.execute_reply.started": "2021-05-24T12:16:40.317121Z"
    },
    "papermill": {
     "duration": 0.048032,
     "end_time": "2021-05-24T12:21:32.528876",
     "exception": false,
     "start_time": "2021-05-24T12:21:32.480844",
     "status": "completed"
    },
    "tags": []
   },
   "outputs": [],
   "source": [
    "#converting date into a particular format\n",
    "ds.index=pd.to_datetime(ds.index)"
   ]
  },
  {
   "cell_type": "markdown",
   "id": "7ba47d18",
   "metadata": {},
   "source": [
    "# After Applying fileration On our dataset"
   ]
  },
  {
   "cell_type": "markdown",
   "id": "fe1deced",
   "metadata": {},
   "source": [
    "# Top 5 upper & lower rows of our Dataset."
   ]
  },
  {
   "cell_type": "code",
   "execution_count": 8,
   "id": "limiting-thumb",
   "metadata": {
    "execution": {
     "iopub.execute_input": "2021-05-24T12:21:32.583984Z",
     "iopub.status.busy": "2021-05-24T12:21:32.583232Z",
     "iopub.status.idle": "2021-05-24T12:21:32.586173Z",
     "shell.execute_reply": "2021-05-24T12:21:32.586640Z",
     "shell.execute_reply.started": "2021-05-24T12:16:42.024196Z"
    },
    "papermill": {
     "duration": 0.036352,
     "end_time": "2021-05-24T12:21:32.586847",
     "exception": false,
     "start_time": "2021-05-24T12:21:32.550495",
     "status": "completed"
    },
    "tags": []
   },
   "outputs": [
    {
     "data": {
      "text/html": [
       "<div>\n",
       "<style scoped>\n",
       "    .dataframe tbody tr th:only-of-type {\n",
       "        vertical-align: middle;\n",
       "    }\n",
       "\n",
       "    .dataframe tbody tr th {\n",
       "        vertical-align: top;\n",
       "    }\n",
       "\n",
       "    .dataframe thead th {\n",
       "        text-align: right;\n",
       "    }\n",
       "</style>\n",
       "<table border=\"1\" class=\"dataframe\">\n",
       "  <thead>\n",
       "    <tr style=\"text-align: right;\">\n",
       "      <th></th>\n",
       "      <th>Member_number</th>\n",
       "      <th>Description</th>\n",
       "    </tr>\n",
       "    <tr>\n",
       "      <th>Date</th>\n",
       "      <th></th>\n",
       "      <th></th>\n",
       "    </tr>\n",
       "  </thead>\n",
       "  <tbody>\n",
       "    <tr>\n",
       "      <th>2015-07-21</th>\n",
       "      <td>1808</td>\n",
       "      <td>tropical fruit</td>\n",
       "    </tr>\n",
       "    <tr>\n",
       "      <th>2015-05-01</th>\n",
       "      <td>2552</td>\n",
       "      <td>whole milk</td>\n",
       "    </tr>\n",
       "    <tr>\n",
       "      <th>2015-09-19</th>\n",
       "      <td>2300</td>\n",
       "      <td>pip fruit</td>\n",
       "    </tr>\n",
       "    <tr>\n",
       "      <th>2015-12-12</th>\n",
       "      <td>1187</td>\n",
       "      <td>other vegetables</td>\n",
       "    </tr>\n",
       "    <tr>\n",
       "      <th>2015-01-02</th>\n",
       "      <td>3037</td>\n",
       "      <td>whole milk</td>\n",
       "    </tr>\n",
       "  </tbody>\n",
       "</table>\n",
       "</div>"
      ],
      "text/plain": [
       "            Member_number       Description\n",
       "Date                                       \n",
       "2015-07-21           1808    tropical fruit\n",
       "2015-05-01           2552        whole milk\n",
       "2015-09-19           2300         pip fruit\n",
       "2015-12-12           1187  other vegetables\n",
       "2015-01-02           3037        whole milk"
      ]
     },
     "execution_count": 8,
     "metadata": {},
     "output_type": "execute_result"
    }
   ],
   "source": [
    "ds.head()"
   ]
  },
  {
   "cell_type": "code",
   "execution_count": 9,
   "id": "027fa675",
   "metadata": {},
   "outputs": [
    {
     "data": {
      "text/html": [
       "<div>\n",
       "<style scoped>\n",
       "    .dataframe tbody tr th:only-of-type {\n",
       "        vertical-align: middle;\n",
       "    }\n",
       "\n",
       "    .dataframe tbody tr th {\n",
       "        vertical-align: top;\n",
       "    }\n",
       "\n",
       "    .dataframe thead th {\n",
       "        text-align: right;\n",
       "    }\n",
       "</style>\n",
       "<table border=\"1\" class=\"dataframe\">\n",
       "  <thead>\n",
       "    <tr style=\"text-align: right;\">\n",
       "      <th></th>\n",
       "      <th>Member_number</th>\n",
       "      <th>Description</th>\n",
       "    </tr>\n",
       "    <tr>\n",
       "      <th>Date</th>\n",
       "      <th></th>\n",
       "      <th></th>\n",
       "    </tr>\n",
       "  </thead>\n",
       "  <tbody>\n",
       "    <tr>\n",
       "      <th>2014-08-10</th>\n",
       "      <td>4471</td>\n",
       "      <td>sliced cheese</td>\n",
       "    </tr>\n",
       "    <tr>\n",
       "      <th>2014-02-23</th>\n",
       "      <td>2022</td>\n",
       "      <td>candy</td>\n",
       "    </tr>\n",
       "    <tr>\n",
       "      <th>2014-04-16</th>\n",
       "      <td>1097</td>\n",
       "      <td>cake bar</td>\n",
       "    </tr>\n",
       "    <tr>\n",
       "      <th>2014-03-12</th>\n",
       "      <td>1510</td>\n",
       "      <td>fruit/vegetable juice</td>\n",
       "    </tr>\n",
       "    <tr>\n",
       "      <th>2014-12-26</th>\n",
       "      <td>1521</td>\n",
       "      <td>cat food</td>\n",
       "    </tr>\n",
       "  </tbody>\n",
       "</table>\n",
       "</div>"
      ],
      "text/plain": [
       "            Member_number            Description\n",
       "Date                                            \n",
       "2014-08-10           4471          sliced cheese\n",
       "2014-02-23           2022                  candy\n",
       "2014-04-16           1097               cake bar\n",
       "2014-03-12           1510  fruit/vegetable juice\n",
       "2014-12-26           1521               cat food"
      ]
     },
     "execution_count": 9,
     "metadata": {},
     "output_type": "execute_result"
    }
   ],
   "source": [
    "ds.tail()"
   ]
  },
  {
   "cell_type": "code",
   "execution_count": 10,
   "id": "04823023",
   "metadata": {},
   "outputs": [
    {
     "data": {
      "text/html": [
       "<div>\n",
       "<style scoped>\n",
       "    .dataframe tbody tr th:only-of-type {\n",
       "        vertical-align: middle;\n",
       "    }\n",
       "\n",
       "    .dataframe tbody tr th {\n",
       "        vertical-align: top;\n",
       "    }\n",
       "\n",
       "    .dataframe thead th {\n",
       "        text-align: right;\n",
       "    }\n",
       "</style>\n",
       "<table border=\"1\" class=\"dataframe\">\n",
       "  <thead>\n",
       "    <tr style=\"text-align: right;\">\n",
       "      <th></th>\n",
       "      <th>Member_number</th>\n",
       "    </tr>\n",
       "  </thead>\n",
       "  <tbody>\n",
       "    <tr>\n",
       "      <th>count</th>\n",
       "      <td>38765.000000</td>\n",
       "    </tr>\n",
       "    <tr>\n",
       "      <th>mean</th>\n",
       "      <td>3003.641868</td>\n",
       "    </tr>\n",
       "    <tr>\n",
       "      <th>std</th>\n",
       "      <td>1153.611031</td>\n",
       "    </tr>\n",
       "    <tr>\n",
       "      <th>min</th>\n",
       "      <td>1000.000000</td>\n",
       "    </tr>\n",
       "    <tr>\n",
       "      <th>25%</th>\n",
       "      <td>2002.000000</td>\n",
       "    </tr>\n",
       "    <tr>\n",
       "      <th>50%</th>\n",
       "      <td>3005.000000</td>\n",
       "    </tr>\n",
       "    <tr>\n",
       "      <th>75%</th>\n",
       "      <td>4007.000000</td>\n",
       "    </tr>\n",
       "    <tr>\n",
       "      <th>max</th>\n",
       "      <td>5000.000000</td>\n",
       "    </tr>\n",
       "  </tbody>\n",
       "</table>\n",
       "</div>"
      ],
      "text/plain": [
       "       Member_number\n",
       "count   38765.000000\n",
       "mean     3003.641868\n",
       "std      1153.611031\n",
       "min      1000.000000\n",
       "25%      2002.000000\n",
       "50%      3005.000000\n",
       "75%      4007.000000\n",
       "max      5000.000000"
      ]
     },
     "execution_count": 10,
     "metadata": {},
     "output_type": "execute_result"
    }
   ],
   "source": [
    "ds.describe()"
   ]
  },
  {
   "cell_type": "markdown",
   "id": "e816d772",
   "metadata": {},
   "source": [
    "# Find NULL or Missing Value in Dataset."
   ]
  },
  {
   "cell_type": "code",
   "execution_count": 11,
   "id": "viral-backing",
   "metadata": {
    "execution": {
     "iopub.execute_input": "2021-05-24T12:21:32.635662Z",
     "iopub.status.busy": "2021-05-24T12:21:32.634998Z",
     "iopub.status.idle": "2021-05-24T12:21:32.648692Z",
     "shell.execute_reply": "2021-05-24T12:21:32.648038Z",
     "shell.execute_reply.started": "2021-05-24T12:16:44.822085Z"
    },
    "papermill": {
     "duration": 0.039627,
     "end_time": "2021-05-24T12:21:32.648834",
     "exception": false,
     "start_time": "2021-05-24T12:21:32.609207",
     "status": "completed"
    },
    "tags": []
   },
   "outputs": [
    {
     "data": {
      "text/plain": [
       "Member_number    0\n",
       "Description      0\n",
       "dtype: int64"
      ]
     },
     "execution_count": 11,
     "metadata": {},
     "output_type": "execute_result"
    }
   ],
   "source": [
    "#checking for mising values\n",
    "ds.isnull().sum()"
   ]
  },
  {
   "cell_type": "markdown",
   "id": "attractive-performance",
   "metadata": {
    "papermill": {
     "duration": 0.022145,
     "end_time": "2021-05-24T12:21:32.693114",
     "exception": false,
     "start_time": "2021-05-24T12:21:32.670969",
     "status": "completed"
    },
    "tags": []
   },
   "source": [
    "**NO MISSING VALUES HERE**"
   ]
  },
  {
   "cell_type": "markdown",
   "id": "2b0f7042",
   "metadata": {},
   "source": [
    "# Get the length of our Dataset, numbers of how many Days and Numbers of Years."
   ]
  },
  {
   "cell_type": "code",
   "execution_count": 12,
   "id": "atlantic-november",
   "metadata": {
    "execution": {
     "iopub.execute_input": "2021-05-24T12:21:32.740644Z",
     "iopub.status.busy": "2021-05-24T12:21:32.739992Z",
     "iopub.status.idle": "2021-05-24T12:21:32.819324Z",
     "shell.execute_reply": "2021-05-24T12:21:32.819826Z",
     "shell.execute_reply.started": "2021-05-24T12:16:46.435642Z"
    },
    "papermill": {
     "duration": 0.105091,
     "end_time": "2021-05-24T12:21:32.820012",
     "exception": false,
     "start_time": "2021-05-24T12:21:32.714921",
     "status": "completed"
    },
    "tags": []
   },
   "outputs": [
    {
     "name": "stdout",
     "output_type": "stream",
     "text": [
      "38765 728 2\n"
     ]
    }
   ],
   "source": [
    "#gathering information about products\n",
    "total_item = len(ds)\n",
    "total_days = len(np.unique(ds.index.date))\n",
    "total_months = len(np.unique(ds.index.year))\n",
    "print(total_item,total_days,total_months)"
   ]
  },
  {
   "cell_type": "markdown",
   "id": "magnetic-footage",
   "metadata": {
    "papermill": {
     "duration": 0.021761,
     "end_time": "2021-05-24T12:21:32.864090",
     "exception": false,
     "start_time": "2021-05-24T12:21:32.842329",
     "status": "completed"
    },
    "tags": []
   },
   "source": [
    "**Total 38765 items sold in 728 days throughout 24 months**"
   ]
  },
  {
   "cell_type": "markdown",
   "id": "e7a5863b",
   "metadata": {},
   "source": [
    "# Show The graph Between Top 20 items which is purchased by customers and Count of Purchased items."
   ]
  },
  {
   "cell_type": "code",
   "execution_count": 13,
   "id": "peaceful-school",
   "metadata": {
    "execution": {
     "iopub.execute_input": "2021-05-24T12:21:32.943077Z",
     "iopub.status.busy": "2021-05-24T12:21:32.937306Z",
     "iopub.status.idle": "2021-05-24T12:21:33.296917Z",
     "shell.execute_reply": "2021-05-24T12:21:33.297388Z",
     "shell.execute_reply.started": "2021-05-24T12:18:43.525857Z"
    },
    "papermill": {
     "duration": 0.411369,
     "end_time": "2021-05-24T12:21:33.297586",
     "exception": false,
     "start_time": "2021-05-24T12:21:32.886217",
     "status": "completed"
    },
    "scrolled": true,
    "tags": []
   },
   "outputs": [
    {
     "data": {
      "image/png": "[encoded data removed]",
      "text/plain": [
       "<Figure size 1080x360 with 1 Axes>"
      ]
     },
     "metadata": {
      "needs_background": "light"
     },
     "output_type": "display_data"
    }
   ],
   "source": [
    "plt.figure(figsize=(15,5))\n",
    "sns.barplot(x = ds.Description.value_counts().head(20).index, y = ds.Description.value_counts().head(20).values, palette = 'gnuplot')\n",
    "plt.xlabel('ProductDescription', color = 'red', size = 15)\n",
    "plt.xticks(rotation=45)\n",
    "plt.ylabel('Count of Purchased Items', color = 'red', size = 15)\n",
    "plt.title('Top 20 Items purchased by customers', color = 'blue', size = 20)\n",
    "plt.show()"
   ]
  },
  {
   "cell_type": "markdown",
   "id": "b645bf9a",
   "metadata": {},
   "source": [
    "# Another Graph Between Top 20 items which is purchased by customers and Count of Purchased items."
   ]
  },
  {
   "cell_type": "code",
   "execution_count": 14,
   "id": "24c71055",
   "metadata": {},
   "outputs": [
    {
     "data": {
      "image/png": "[encoded data removed]",
      "text/plain": [
       "<Figure size 1296x504 with 1 Axes>"
      ]
     },
     "metadata": {
      "needs_background": "light"
     },
     "output_type": "display_data"
    }
   ],
   "source": [
    "plt.rcParams['figure.figsize'] = (18, 7)\n",
    "color = plt.cm.copper(np.linspace(0, 1, 40))\n",
    "ds['Description'].value_counts().head(40).plot.bar(color = color)\n",
    "plt.title('Top 20 Items purchased by customers',color ='blue', fontsize = 20)\n",
    "plt.xlabel('ProductDescription', color = 'red', size = 15,)\n",
    "plt.ylabel('Count of Purchased Items', color = 'red', size = 15)\n",
    "plt.xticks(rotation = 60 )\n",
    "plt.grid()\n",
    "plt.show()"
   ]
  },
  {
   "cell_type": "markdown",
   "id": "09517a88",
   "metadata": {},
   "source": [
    "# Count the Values of Items How Many times A perticular item purchased by Customers. "
   ]
  },
  {
   "cell_type": "code",
   "execution_count": 15,
   "id": "received-lightning",
   "metadata": {
    "execution": {
     "iopub.execute_input": "2021-05-24T12:21:33.360567Z",
     "iopub.status.busy": "2021-05-24T12:21:33.355813Z",
     "iopub.status.idle": "2021-05-24T12:21:33.369623Z",
     "shell.execute_reply": "2021-05-24T12:21:33.368873Z",
     "shell.execute_reply.started": "2021-05-24T11:42:58.729570Z"
    },
    "papermill": {
     "duration": 0.047731,
     "end_time": "2021-05-24T12:21:33.369802",
     "exception": false,
     "start_time": "2021-05-24T12:21:33.322071",
     "status": "completed"
    },
    "tags": []
   },
   "outputs": [
    {
     "data": {
      "text/plain": [
       "whole milk               2502\n",
       "other vegetables         1898\n",
       "rolls/buns               1716\n",
       "soda                     1514\n",
       "yogurt                   1334\n",
       "                         ... \n",
       "rubbing alcohol             5\n",
       "bags                        4\n",
       "baby cosmetics              3\n",
       "kitchen utensil             1\n",
       "preservation products       1\n",
       "Name: Description, Length: 167, dtype: int64"
      ]
     },
     "execution_count": 15,
     "metadata": {},
     "output_type": "execute_result"
    }
   ],
   "source": [
    "ds['Description'].value_counts()"
   ]
  },
  {
   "cell_type": "markdown",
   "id": "911b3c33",
   "metadata": {},
   "source": [
    "# Grouping the Dataset to form a list of items bought by same customer on same date and get the Top 10 dates result."
   ]
  },
  {
   "cell_type": "code",
   "execution_count": 16,
   "id": "proper-japanese",
   "metadata": {
    "execution": {
     "iopub.execute_input": "2021-05-24T12:21:33.427828Z",
     "iopub.status.busy": "2021-05-24T12:21:33.427074Z",
     "iopub.status.idle": "2021-05-24T12:21:35.056867Z",
     "shell.execute_reply": "2021-05-24T12:21:35.056157Z",
     "shell.execute_reply.started": "2021-05-24T11:43:02.481767Z"
    },
    "papermill": {
     "duration": 1.661976,
     "end_time": "2021-05-24T12:21:35.057038",
     "exception": false,
     "start_time": "2021-05-24T12:21:33.395062",
     "status": "completed"
    },
    "tags": []
   },
   "outputs": [],
   "source": [
    "#grouping dataset to form a list of items bought by same customer on same date\n",
    "ds=ds.groupby(['Member_number','Date'])['Description'].apply(lambda x: list(x))"
   ]
  },
  {
   "cell_type": "code",
   "execution_count": 17,
   "id": "cooperative-citizenship",
   "metadata": {
    "execution": {
     "iopub.execute_input": "2021-05-24T12:21:35.121246Z",
     "iopub.status.busy": "2021-05-24T12:21:35.120174Z",
     "iopub.status.idle": "2021-05-24T12:21:35.125328Z",
     "shell.execute_reply": "2021-05-24T12:21:35.124775Z",
     "shell.execute_reply.started": "2021-05-24T11:43:04.983974Z"
    },
    "papermill": {
     "duration": 0.042903,
     "end_time": "2021-05-24T12:21:35.125483",
     "exception": false,
     "start_time": "2021-05-24T12:21:35.082580",
     "status": "completed"
    },
    "tags": []
   },
   "outputs": [
    {
     "data": {
      "text/plain": [
       "Member_number  Date      \n",
       "1000           2014-06-24                    [whole milk, pastry, salty snack]\n",
       "               2015-03-15    [sausage, whole milk, semi-finished bread, yog...\n",
       "               2015-05-27                           [soda, pickled vegetables]\n",
       "               2015-07-24                       [canned beer, misc. beverages]\n",
       "               2015-11-25                          [sausage, hygiene articles]\n",
       "1001           2014-07-02                    [sausage, whole milk, rolls/buns]\n",
       "               2014-12-12                                   [whole milk, soda]\n",
       "               2015-01-20              [frankfurter, soda, whipped/sour cream]\n",
       "               2015-02-05                                  [frankfurter, curd]\n",
       "               2015-04-14                                  [beef, white bread]\n",
       "Name: Description, dtype: object"
      ]
     },
     "execution_count": 17,
     "metadata": {},
     "output_type": "execute_result"
    }
   ],
   "source": [
    "ds.head(10)"
   ]
  },
  {
   "cell_type": "code",
   "execution_count": 18,
   "id": "extensive-meaning",
   "metadata": {
    "execution": {
     "iopub.execute_input": "2021-05-24T12:21:35.182383Z",
     "iopub.status.busy": "2021-05-24T12:21:35.181328Z",
     "iopub.status.idle": "2021-05-24T12:21:35.186784Z",
     "shell.execute_reply": "2021-05-24T12:21:35.186105Z",
     "shell.execute_reply.started": "2021-05-24T11:43:09.617864Z"
    },
    "papermill": {
     "duration": 0.036088,
     "end_time": "2021-05-24T12:21:35.186945",
     "exception": false,
     "start_time": "2021-05-24T12:21:35.150857",
     "status": "completed"
    },
    "tags": []
   },
   "outputs": [
    {
     "data": {
      "text/plain": [
       "(14963,)"
      ]
     },
     "execution_count": 18,
     "metadata": {},
     "output_type": "execute_result"
    }
   ],
   "source": [
    "ds.shape"
   ]
  },
  {
   "cell_type": "markdown",
   "id": "rational-payroll",
   "metadata": {
    "papermill": {
     "duration": 0.025886,
     "end_time": "2021-05-24T12:21:35.238590",
     "exception": false,
     "start_time": "2021-05-24T12:21:35.212704",
     "status": "completed"
    },
    "tags": []
   },
   "source": [
    "**NOW THE DATASET HAS 14963 ROWS**"
   ]
  },
  {
   "cell_type": "markdown",
   "id": "190375d5",
   "metadata": {},
   "source": [
    "# use Apriori to form the dataset into a List."
   ]
  },
  {
   "cell_type": "code",
   "execution_count": 19,
   "id": "valid-dodge",
   "metadata": {
    "execution": {
     "iopub.execute_input": "2021-05-24T12:21:35.298087Z",
     "iopub.status.busy": "2021-05-24T12:21:35.296944Z",
     "iopub.status.idle": "2021-05-24T12:21:35.302075Z",
     "shell.execute_reply": "2021-05-24T12:21:35.301402Z",
     "shell.execute_reply.started": "2021-05-24T12:09:24.904798Z"
    },
    "papermill": {
     "duration": 0.038014,
     "end_time": "2021-05-24T12:21:35.302232",
     "exception": false,
     "start_time": "2021-05-24T12:21:35.264218",
     "status": "completed"
    },
    "tags": []
   },
   "outputs": [
    {
     "data": {
      "text/plain": [
       "[['whole milk', 'pastry', 'salty snack'],\n",
       " ['sausage', 'whole milk', 'semi-finished bread', 'yogurt'],\n",
       " ['soda', 'pickled vegetables'],\n",
       " ['canned beer', 'misc. beverages'],\n",
       " ['sausage', 'hygiene articles'],\n",
       " ['sausage', 'whole milk', 'rolls/buns'],\n",
       " ['whole milk', 'soda'],\n",
       " ['frankfurter', 'soda', 'whipped/sour cream'],\n",
       " ['frankfurter', 'curd'],\n",
       " ['beef', 'white bread']]"
      ]
     },
     "execution_count": 19,
     "metadata": {},
     "output_type": "execute_result"
    }
   ],
   "source": [
    "#apriori takes list as an input, hence converting dtaset to a list\n",
    "transactions = ds.values.tolist()\n",
    "transactions[:10]"
   ]
  },
  {
   "cell_type": "code",
   "execution_count": 20,
   "id": "veterinary-christopher",
   "metadata": {
    "execution": {
     "iopub.execute_input": "2021-05-24T12:21:35.360180Z",
     "iopub.status.busy": "2021-05-24T12:21:35.359456Z",
     "iopub.status.idle": "2021-05-24T12:21:36.809794Z",
     "shell.execute_reply": "2021-05-24T12:21:36.810347Z",
     "shell.execute_reply.started": "2021-05-24T12:12:26.694385Z"
    },
    "jupyter": {
     "outputs_hidden": true
    },
    "papermill": {
     "duration": 1.481896,
     "end_time": "2021-05-24T12:21:36.810574",
     "exception": false,
     "start_time": "2021-05-24T12:21:35.328678",
     "status": "completed"
    },
    "tags": []
   },
   "outputs": [
    {
     "data": {
      "text/plain": [
       "[RelationRecord(items=frozenset({'artif. sweetener', 'soda'}), support=0.00046782062420637575, ordered_statistics=[OrderedStatistic(items_base=frozenset({'artif. sweetener'}), items_add=frozenset({'soda'}), confidence=0.2413793103448276, lift=2.4857251346797353)]),\n",
       " RelationRecord(items=frozenset({'berries', 'condensed milk'}), support=0.0003341575887188398, ordered_statistics=[OrderedStatistic(items_base=frozenset({'condensed milk'}), items_add=frozenset({'berries'}), confidence=0.05102040816326531, lift=2.34177413296607)]),\n",
       " RelationRecord(items=frozenset({'brandy', 'whole milk'}), support=0.0008688097306689834, ordered_statistics=[OrderedStatistic(items_base=frozenset({'brandy'}), items_add=frozenset({'whole milk'}), confidence=0.34210526315789475, lift=2.1662805978127717)]),\n",
       " RelationRecord(items=frozenset({'sweet spreads', 'butter'}), support=0.0003341575887188398, ordered_statistics=[OrderedStatistic(items_base=frozenset({'sweet spreads'}), items_add=frozenset({'butter'}), confidence=0.07352941176470588, lift=2.087705101015738)]),\n",
       " RelationRecord(items=frozenset({'liver loaf', 'canned beer'}), support=0.00040098910646260775, ordered_statistics=[OrderedStatistic(items_base=frozenset({'liver loaf'}), items_add=frozenset({'canned beer'}), confidence=0.12, lift=2.5577777777777775)]),\n",
       " RelationRecord(items=frozenset({'chocolate', 'frozen fish'}), support=0.00040098910646260775, ordered_statistics=[OrderedStatistic(items_base=frozenset({'frozen fish'}), items_add=frozenset({'chocolate'}), confidence=0.058823529411764705, lift=2.493417763706049)]),\n",
       " RelationRecord(items=frozenset({'citrus fruit', 'sauces'}), support=0.0003341575887188398, ordered_statistics=[OrderedStatistic(items_base=frozenset({'sauces'}), items_add=frozenset({'citrus fruit'}), confidence=0.11363636363636365, lift=2.1387935963407663)]),\n",
       " RelationRecord(items=frozenset({'curd', 'cling film/bags'}), support=0.0003341575887188398, ordered_statistics=[OrderedStatistic(items_base=frozenset({'cling film/bags'}), items_add=frozenset({'curd'}), confidence=0.06756756756756757, lift=2.005979193479194)]),\n",
       " RelationRecord(items=frozenset({'waffles', 'condensed milk'}), support=0.0003341575887188398, ordered_statistics=[OrderedStatistic(items_base=frozenset({'condensed milk'}), items_add=frozenset({'waffles'}), confidence=0.05102040816326531, lift=2.7560229868120536)]),\n",
       " RelationRecord(items=frozenset({'mustard', 'frankfurter'}), support=0.0005346521419501437, ordered_statistics=[OrderedStatistic(items_base=frozenset({'mustard'}), items_add=frozenset({'frankfurter'}), confidence=0.08695652173913045, lift=2.302885725278954)])]"
      ]
     },
     "execution_count": 20,
     "metadata": {},
     "output_type": "execute_result"
    }
   ],
   "source": [
    "#applying apriori\n",
    "from apyori import apriori\n",
    "rules = apriori(transactions, min_support=0.00030,min_confidence = 0.05,min_lift = 2,min_length = 2)\n",
    "results = list(rules)\n",
    "results[0:10]"
   ]
  },
  {
   "cell_type": "markdown",
   "id": "89812ac4",
   "metadata": {},
   "source": [
    "# get the Length of the Result. "
   ]
  },
  {
   "cell_type": "code",
   "execution_count": 21,
   "id": "asian-scout",
   "metadata": {
    "execution": {
     "iopub.execute_input": "2021-05-24T12:21:36.873279Z",
     "iopub.status.busy": "2021-05-24T12:21:36.872039Z",
     "iopub.status.idle": "2021-05-24T12:21:36.876873Z",
     "shell.execute_reply": "2021-05-24T12:21:36.876287Z",
     "shell.execute_reply.started": "2021-05-24T12:12:44.691970Z"
    },
    "papermill": {
     "duration": 0.037579,
     "end_time": "2021-05-24T12:21:36.877035",
     "exception": false,
     "start_time": "2021-05-24T12:21:36.839456",
     "status": "completed"
    },
    "tags": []
   },
   "outputs": [
    {
     "data": {
      "text/plain": [
       "104"
      ]
     },
     "execution_count": 21,
     "metadata": {},
     "output_type": "execute_result"
    }
   ],
   "source": [
    "len(results)"
   ]
  },
  {
   "cell_type": "markdown",
   "id": "51d0f8c2",
   "metadata": {},
   "source": [
    "# To get the ordered items in the form of Support, Confidence and Lift."
   ]
  },
  {
   "cell_type": "code",
   "execution_count": 22,
   "id": "greatest-stylus",
   "metadata": {
    "execution": {
     "iopub.execute_input": "2021-05-24T12:21:36.942007Z",
     "iopub.status.busy": "2021-05-24T12:21:36.941144Z",
     "iopub.status.idle": "2021-05-24T12:21:36.944408Z",
     "shell.execute_reply": "2021-05-24T12:21:36.943744Z",
     "shell.execute_reply.started": "2021-05-24T12:19:18.924987Z"
    },
    "papermill": {
     "duration": 0.040274,
     "end_time": "2021-05-24T12:21:36.944587",
     "exception": false,
     "start_time": "2021-05-24T12:21:36.904313",
     "status": "completed"
    },
    "tags": []
   },
   "outputs": [],
   "source": [
    "def inspect(results):\n",
    "    lhs         = [tuple(result[2][0][0])[0] for result in results]\n",
    "    rhs         = [tuple(result[2][0][1])[0] for result in results]\n",
    "    supports    = [result[1] for result in results]\n",
    "    confidences = [result[2][0][2] for result in results]\n",
    "    lifts       = [result[2][0][3] for result in results]\n",
    "    return list(zip(lhs, rhs, supports, confidences, lifts))\n",
    "ordered_results = pd.DataFrame(inspect(results), columns = ['Left Hand Side', 'Right Hand Side', 'Support', 'Confidence', 'Lift'])"
   ]
  },
  {
   "cell_type": "code",
   "execution_count": 23,
   "id": "potential-ebony",
   "metadata": {
    "execution": {
     "iopub.execute_input": "2021-05-24T12:21:37.020758Z",
     "iopub.status.busy": "2021-05-24T12:21:37.019764Z",
     "iopub.status.idle": "2021-05-24T12:21:37.025350Z",
     "shell.execute_reply": "2021-05-24T12:21:37.024745Z",
     "shell.execute_reply.started": "2021-05-24T12:19:24.916416Z"
    },
    "papermill": {
     "duration": 0.05101,
     "end_time": "2021-05-24T12:21:37.025506",
     "exception": false,
     "start_time": "2021-05-24T12:21:36.974496",
     "status": "completed"
    },
    "tags": []
   },
   "outputs": [
    {
     "data": {
      "text/html": [
       "<div>\n",
       "<style scoped>\n",
       "    .dataframe tbody tr th:only-of-type {\n",
       "        vertical-align: middle;\n",
       "    }\n",
       "\n",
       "    .dataframe tbody tr th {\n",
       "        vertical-align: top;\n",
       "    }\n",
       "\n",
       "    .dataframe thead th {\n",
       "        text-align: right;\n",
       "    }\n",
       "</style>\n",
       "<table border=\"1\" class=\"dataframe\">\n",
       "  <thead>\n",
       "    <tr style=\"text-align: right;\">\n",
       "      <th></th>\n",
       "      <th>Left Hand Side</th>\n",
       "      <th>Right Hand Side</th>\n",
       "      <th>Support</th>\n",
       "      <th>Confidence</th>\n",
       "      <th>Lift</th>\n",
       "    </tr>\n",
       "  </thead>\n",
       "  <tbody>\n",
       "    <tr>\n",
       "      <th>0</th>\n",
       "      <td>artif. sweetener</td>\n",
       "      <td>soda</td>\n",
       "      <td>0.000468</td>\n",
       "      <td>0.241379</td>\n",
       "      <td>2.485725</td>\n",
       "    </tr>\n",
       "    <tr>\n",
       "      <th>1</th>\n",
       "      <td>condensed milk</td>\n",
       "      <td>berries</td>\n",
       "      <td>0.000334</td>\n",
       "      <td>0.051020</td>\n",
       "      <td>2.341774</td>\n",
       "    </tr>\n",
       "    <tr>\n",
       "      <th>2</th>\n",
       "      <td>brandy</td>\n",
       "      <td>whole milk</td>\n",
       "      <td>0.000869</td>\n",
       "      <td>0.342105</td>\n",
       "      <td>2.166281</td>\n",
       "    </tr>\n",
       "    <tr>\n",
       "      <th>3</th>\n",
       "      <td>sweet spreads</td>\n",
       "      <td>butter</td>\n",
       "      <td>0.000334</td>\n",
       "      <td>0.073529</td>\n",
       "      <td>2.087705</td>\n",
       "    </tr>\n",
       "    <tr>\n",
       "      <th>4</th>\n",
       "      <td>liver loaf</td>\n",
       "      <td>canned beer</td>\n",
       "      <td>0.000401</td>\n",
       "      <td>0.120000</td>\n",
       "      <td>2.557778</td>\n",
       "    </tr>\n",
       "    <tr>\n",
       "      <th>...</th>\n",
       "      <td>...</td>\n",
       "      <td>...</td>\n",
       "      <td>...</td>\n",
       "      <td>...</td>\n",
       "      <td>...</td>\n",
       "    </tr>\n",
       "    <tr>\n",
       "      <th>99</th>\n",
       "      <td>rolls/buns</td>\n",
       "      <td>yogurt</td>\n",
       "      <td>0.000601</td>\n",
       "      <td>0.204545</td>\n",
       "      <td>2.381800</td>\n",
       "    </tr>\n",
       "    <tr>\n",
       "      <th>100</th>\n",
       "      <td>shopping bags</td>\n",
       "      <td>yogurt</td>\n",
       "      <td>0.000401</td>\n",
       "      <td>0.206897</td>\n",
       "      <td>2.409178</td>\n",
       "    </tr>\n",
       "    <tr>\n",
       "      <th>101</th>\n",
       "      <td>yogurt</td>\n",
       "      <td>sausage</td>\n",
       "      <td>0.001470</td>\n",
       "      <td>0.131737</td>\n",
       "      <td>2.182917</td>\n",
       "    </tr>\n",
       "    <tr>\n",
       "      <th>102</th>\n",
       "      <td>pastry</td>\n",
       "      <td>soda</td>\n",
       "      <td>0.000334</td>\n",
       "      <td>0.090909</td>\n",
       "      <td>7.817659</td>\n",
       "    </tr>\n",
       "    <tr>\n",
       "      <th>103</th>\n",
       "      <td>rolls/buns</td>\n",
       "      <td>yogurt</td>\n",
       "      <td>0.000334</td>\n",
       "      <td>0.062500</td>\n",
       "      <td>5.599925</td>\n",
       "    </tr>\n",
       "  </tbody>\n",
       "</table>\n",
       "<p>104 rows × 5 columns</p>\n",
       "</div>"
      ],
      "text/plain": [
       "       Left Hand Side Right Hand Side   Support  Confidence      Lift\n",
       "0    artif. sweetener            soda  0.000468    0.241379  2.485725\n",
       "1      condensed milk         berries  0.000334    0.051020  2.341774\n",
       "2              brandy      whole milk  0.000869    0.342105  2.166281\n",
       "3       sweet spreads          butter  0.000334    0.073529  2.087705\n",
       "4          liver loaf     canned beer  0.000401    0.120000  2.557778\n",
       "..                ...             ...       ...         ...       ...\n",
       "99         rolls/buns          yogurt  0.000601    0.204545  2.381800\n",
       "100     shopping bags          yogurt  0.000401    0.206897  2.409178\n",
       "101            yogurt         sausage  0.001470    0.131737  2.182917\n",
       "102            pastry            soda  0.000334    0.090909  7.817659\n",
       "103        rolls/buns          yogurt  0.000334    0.062500  5.599925\n",
       "\n",
       "[104 rows x 5 columns]"
      ]
     },
     "execution_count": 23,
     "metadata": {},
     "output_type": "execute_result"
    }
   ],
   "source": [
    "ordered_results"
   ]
  },
  {
   "cell_type": "markdown",
   "id": "cba0797c",
   "metadata": {},
   "source": []
  },
  {
   "cell_type": "code",
   "execution_count": 24,
   "id": "5b06947d",
   "metadata": {},
   "outputs": [
    {
     "name": "stdout",
     "output_type": "stream",
     "text": [
      "Requirement already satisfied: wordcloud in c:\\users\\raj kumar choudhary\\anaconda3\\lib\\site-packages (1.8.1)\n",
      "Requirement already satisfied: numpy>=1.6.1 in c:\\users\\raj kumar choudhary\\anaconda3\\lib\\site-packages (from wordcloud) (1.20.3)\n",
      "Requirement already satisfied: matplotlib in c:\\users\\raj kumar choudhary\\anaconda3\\lib\\site-packages (from wordcloud) (3.4.3)\n",
      "Requirement already satisfied: pillow in c:\\users\\raj kumar choudhary\\anaconda3\\lib\\site-packages (from wordcloud) (8.4.0)\n",
      "Requirement already satisfied: cycler>=0.10 in c:\\users\\raj kumar choudhary\\anaconda3\\lib\\site-packages (from matplotlib->wordcloud) (0.10.0)\n",
      "Requirement already satisfied: kiwisolver>=1.0.1 in c:\\users\\raj kumar choudhary\\anaconda3\\lib\\site-packages (from matplotlib->wordcloud) (1.3.1)\n",
      "Requirement already satisfied: python-dateutil>=2.7 in c:\\users\\raj kumar choudhary\\anaconda3\\lib\\site-packages (from matplotlib->wordcloud) (2.8.2)\n",
      "Requirement already satisfied: pyparsing>=2.2.1 in c:\\users\\raj kumar choudhary\\anaconda3\\lib\\site-packages (from matplotlib->wordcloud) (3.0.4)\n",
      "Requirement already satisfied: six in c:\\users\\raj kumar choudhary\\anaconda3\\lib\\site-packages (from cycler>=0.10->matplotlib->wordcloud) (1.16.0)\n"
     ]
    }
   ],
   "source": [
    "!pip install wordcloud\n"
   ]
  },
  {
   "cell_type": "code",
   "execution_count": 25,
   "id": "76152e3b",
   "metadata": {},
   "outputs": [
    {
     "data": {
      "image/png": "[encoded data removed]",
      "text/plain": [
       "<Figure size 1800x1800 with 1 Axes>"
      ]
     },
     "metadata": {
      "needs_background": "light"
     },
     "output_type": "display_data"
    }
   ],
   "source": [
    "import matplotlib.pyplot as plt\n",
    "import seaborn as sns\n",
    "\n",
    "from wordcloud import WordCloud\n",
    "ds = pd.read_csv('D:/CSV Files/Groceries_dataset.csv')\n",
    "\n",
    "plt.rcParams['figure.figsize'] = (25, 25)\n",
    "wordcloud = WordCloud(background_color = 'black',  max_words = 500).generate(str(ds['Description']))\n",
    "plt.imshow(wordcloud)\n",
    "plt.axis('off')\n",
    "plt.title('Most Popular Items',fontsize = 12, color = 'blue')\n",
    "plt.show()"
   ]
  },
  {
   "cell_type": "markdown",
   "id": "3e8467f3",
   "metadata": {},
   "source": [
    "# <font color = blue> ...\"\"\"THANKYOU\"\"\"... </font>\n",
    "\n",
    "1. <font color = red> <b> RAJKUMAR CHOUDHARY </font>\n",
    "       +91 89891-24888\n",
    "2. <font COLOR = purple> <b> RASHMI PARDESI </font>\n",
    "       +91 70000-28070\n",
    "3. <font color = brown> <b> DIKSHANT PANDEY </font>\n",
    "       +91 99779-19099"
   ]
  },
  {
   "cell_type": "code",
   "execution_count": null,
   "id": "73d7665b",
   "metadata": {},
   "outputs": [],
   "source": []
  }
 ],
 "metadata": {
  "kernelspec": {
   "display_name": "Python 3 (ipykernel)",
   "language": "python",
   "name": "python3"
  },
  "language_info": {
   "codemirror_mode": {
    "name": "ipython",
    "version": 3
   },
   "file_extension": ".py",
   "mimetype": "text/x-python",
   "name": "python",
   "nbconvert_exporter": "python",
   "pygments_lexer": "ipython3",
   "version": "3.9.7"
  },
  "papermill": {
   "default_parameters": {},
   "duration": 26.908671,
   "end_time": "2021-05-24T12:21:38.965893",
   "environment_variables": {},
   "exception": null,
   "input_path": "__notebook__.ipynb",
   "output_path": "__notebook__.ipynb",
   "parameters": {},
   "start_time": "2021-05-24T12:21:12.057222",
   "version": "2.3.3"
  }
 },
 "nbformat": 4,
 "nbformat_minor": 5
}
